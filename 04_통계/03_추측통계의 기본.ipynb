{
 "cells": [
  {
   "cell_type": "code",
   "execution_count": 1,
   "metadata": {},
   "outputs": [],
   "source": [
    "import numpy as np\n",
    "import pandas as pd\n",
    "import matplotlib.pyplot as plt\n"
   ]
  },
  {
   "cell_type": "code",
   "execution_count": 2,
   "metadata": {},
   "outputs": [
    {
     "data": {
      "text/plain": [
       "array([76, 55, 80, 80, 74, 61, 81, 76, 23, 80], dtype=int64)"
      ]
     },
     "execution_count": 2,
     "metadata": {},
     "output_type": "execute_result"
    }
   ],
   "source": [
    "df = pd.read_csv('data/ch4_scores400.csv')\n",
    "scores = np.array(df['score'])\n",
    "scores[:10]"
   ]
  },
  {
   "cell_type": "code",
   "execution_count": 3,
   "metadata": {},
   "outputs": [
    {
     "data": {
      "text/plain": [
       "array([3, 1, 3])"
      ]
     },
     "execution_count": 3,
     "metadata": {},
     "output_type": "execute_result"
    }
   ],
   "source": [
    "np.random.choice([1,2,3],3)"
   ]
  },
  {
   "cell_type": "code",
   "execution_count": 4,
   "metadata": {},
   "outputs": [],
   "source": [
    "# np.random.choice(a, size=None, replace=True, p=None)\n",
    "# a: 1차원 배열 또는 정수 \n",
    "# size: 정수또는 튜플\n",
    "# replace: 중복허용 여부\n",
    "# p: 1차원 배열,데이터 선택될 확률\n",
    "# np.random. choice(5,3, True)\n",
    "# -0 이상 5 미만인 정수 중 3개를 출력한다(중복허용)\n",
    "# np.random. choice(5,3, False)\n",
    "# -0 이상 5 미만인 정수 중 3개를 출력한다(중복비허용)\n"
   ]
  },
  {
   "cell_type": "code",
   "execution_count": 5,
   "metadata": {},
   "outputs": [
    {
     "data": {
      "text/plain": [
       "array([2, 3, 1])"
      ]
     },
     "execution_count": 5,
     "metadata": {},
     "output_type": "execute_result"
    }
   ],
   "source": [
    "np.random.choice([1,2,3],3, replace=False)"
   ]
  },
  {
   "cell_type": "code",
   "execution_count": 6,
   "metadata": {},
   "outputs": [
    {
     "data": {
      "text/plain": [
       "array([2, 2, 3])"
      ]
     },
     "execution_count": 6,
     "metadata": {},
     "output_type": "execute_result"
    }
   ],
   "source": [
    "np.random.choice([1,2,3],3, replace=True)"
   ]
  },
  {
   "cell_type": "code",
   "execution_count": 7,
   "metadata": {},
   "outputs": [
    {
     "data": {
      "text/plain": [
       "array([2, 1, 1])"
      ]
     },
     "execution_count": 7,
     "metadata": {},
     "output_type": "execute_result"
    }
   ],
   "source": [
    "np.random.seed(1)\n",
    "np.random.choice([1,2,3],3)"
   ]
  },
  {
   "attachments": {},
   "cell_type": "markdown",
   "metadata": {},
   "source": [
    "# 표본 평균"
   ]
  },
  {
   "cell_type": "code",
   "execution_count": 8,
   "metadata": {},
   "outputs": [
    {
     "data": {
      "text/plain": [
       "69.95"
      ]
     },
     "execution_count": 8,
     "metadata": {},
     "output_type": "execute_result"
    }
   ],
   "source": [
    "# np.random.seed(0)\n",
    "sample = np.random.choice(scores,20)\n",
    "sample.mean()"
   ]
  },
  {
   "cell_type": "code",
   "execution_count": 9,
   "metadata": {},
   "outputs": [
    {
     "data": {
      "text/plain": [
       "69.53"
      ]
     },
     "execution_count": 9,
     "metadata": {},
     "output_type": "execute_result"
    }
   ],
   "source": [
    "scores.mean()"
   ]
  },
  {
   "cell_type": "code",
   "execution_count": 21,
   "metadata": {},
   "outputs": [
    {
     "name": "stdout",
     "output_type": "stream",
     "text": [
      "i+1번째 무작위 추출로 얻은 표본평균71.45\n",
      "i+1번째 무작위 추출로 얻은 표본평균63.65\n",
      "i+1번째 무작위 추출로 얻은 표본평균68.55\n",
      "i+1번째 무작위 추출로 얻은 표본평균70.9\n",
      "i+1번째 무작위 추출로 얻은 표본평균74.0\n"
     ]
    }
   ],
   "source": [
    "for i in range(5):\n",
    "    sample =np. random.choice(scores,20)\n",
    "    print(f'i+1번째 무작위 추출로 얻은 표본평균{sample.mean()}')"
   ]
  },
  {
   "cell_type": "code",
   "execution_count": 11,
   "metadata": {},
   "outputs": [],
   "source": [
    "dice = [1,2,3,4,5,6,]\n",
    "prob = [1/21,2/21,3/21,4/21,5/21,6/21]"
   ]
  },
  {
   "cell_type": "code",
   "execution_count": 12,
   "metadata": {},
   "outputs": [
    {
     "data": {
      "text/plain": [
       "array([5, 2, 5, ..., 5, 3, 5])"
      ]
     },
     "execution_count": 12,
     "metadata": {},
     "output_type": "execute_result"
    }
   ],
   "source": [
    "num_trial = 100000\n",
    "sample =np.random.choice(dice,num_trial,p = prob)\n",
    "sample"
   ]
  },
  {
   "attachments": {},
   "cell_type": "markdown",
   "metadata": {},
   "source": [
    "# 도수 분포표 작성"
   ]
  },
  {
   "cell_type": "code",
   "execution_count": 13,
   "metadata": {},
   "outputs": [
    {
     "data": {
      "text/plain": [
       "(array([ 4840,  9452, 14353, 19170, 23901, 28284], dtype=int64),\n",
       " array([1., 2., 3., 4., 5., 6., 7.]))"
      ]
     },
     "execution_count": 13,
     "metadata": {},
     "output_type": "execute_result"
    }
   ],
   "source": [
    "np.histogram(sample, bins=6, range=(1,7))"
   ]
  },
  {
   "cell_type": "code",
   "execution_count": 14,
   "metadata": {},
   "outputs": [],
   "source": [
    "freq, _ = np.histogram(sample, bins=6, range=(1,7))"
   ]
  },
  {
   "cell_type": "code",
   "execution_count": 15,
   "metadata": {},
   "outputs": [
    {
     "data": {
      "text/html": [
       "<div>\n",
       "<style scoped>\n",
       "    .dataframe tbody tr th:only-of-type {\n",
       "        vertical-align: middle;\n",
       "    }\n",
       "\n",
       "    .dataframe tbody tr th {\n",
       "        vertical-align: top;\n",
       "    }\n",
       "\n",
       "    .dataframe thead th {\n",
       "        text-align: right;\n",
       "    }\n",
       "</style>\n",
       "<table border=\"1\" class=\"dataframe\">\n",
       "  <thead>\n",
       "    <tr style=\"text-align: right;\">\n",
       "      <th></th>\n",
       "      <th>frequency</th>\n",
       "      <th>relative frequency</th>\n",
       "    </tr>\n",
       "    <tr>\n",
       "      <th>dice</th>\n",
       "      <th></th>\n",
       "      <th></th>\n",
       "    </tr>\n",
       "  </thead>\n",
       "  <tbody>\n",
       "    <tr>\n",
       "      <th>1</th>\n",
       "      <td>4840</td>\n",
       "      <td>0.04840</td>\n",
       "    </tr>\n",
       "    <tr>\n",
       "      <th>2</th>\n",
       "      <td>9452</td>\n",
       "      <td>0.09452</td>\n",
       "    </tr>\n",
       "    <tr>\n",
       "      <th>3</th>\n",
       "      <td>14353</td>\n",
       "      <td>0.14353</td>\n",
       "    </tr>\n",
       "    <tr>\n",
       "      <th>4</th>\n",
       "      <td>19170</td>\n",
       "      <td>0.19170</td>\n",
       "    </tr>\n",
       "    <tr>\n",
       "      <th>5</th>\n",
       "      <td>23901</td>\n",
       "      <td>0.23901</td>\n",
       "    </tr>\n",
       "    <tr>\n",
       "      <th>6</th>\n",
       "      <td>28284</td>\n",
       "      <td>0.28284</td>\n",
       "    </tr>\n",
       "  </tbody>\n",
       "</table>\n",
       "</div>"
      ],
      "text/plain": [
       "      frequency  relative frequency\n",
       "dice                               \n",
       "1          4840             0.04840\n",
       "2          9452             0.09452\n",
       "3         14353             0.14353\n",
       "4         19170             0.19170\n",
       "5         23901             0.23901\n",
       "6         28284             0.28284"
      ]
     },
     "execution_count": 15,
     "metadata": {},
     "output_type": "execute_result"
    }
   ],
   "source": [
    "pd.DataFrame({'frequency':freq,\n",
    "              'relative frequency':freq/num_trial},\n",
    "             \n",
    "               index = pd.Index(np.arange(1,7),\n",
    "                                name ='dice'))"
   ]
  },
  {
   "cell_type": "code",
   "execution_count": 16,
   "metadata": {},
   "outputs": [
    {
     "data": {
      "image/png": "[encoded data removed]",
      "text/plain": [
       "<Figure size 1000x600 with 1 Axes>"
      ]
     },
     "metadata": {},
     "output_type": "display_data"
    }
   ],
   "source": [
    "fig = plt.figure(figsize =(10,6))\n",
    "ax =fig.add_subplot(111)\n",
    "ax.hist(sample, bins=6 , range= (1,7),density =True, rwidth =0.5)\n",
    "ax.hlines(prob, np.arange(1,7),np.arange(2,8),colors ='red')\n",
    "ax.set_xticks(np.linspace(1.5,6.5,6))\n",
    "ax.set_xlabel('dice')\n",
    "ax.set_ylabel('relative frequency')\n",
    "plt.show()\n",
    "# 빨간선 까지 오는게 오려면 num_trial = 횟수를 늘리면 됌\n",
    "\n",
    "# fig = plt.figure(figsize =(10,6)): 크기가 10x6인 새로운 figure를 생성합니다.\n",
    "# ax =fig.add_subplot(111): 새로 생성된 figure에 1개의 subplot을 추가하고, 이 subplot을 ax 변수에 할당합니다. 111은 하나의 행(row)과 하나의 열(column)을 가지며, 첫 번째 subplot을 의미합니다.\n",
    "# ax.hist(sample, bins=6 , range= (1,7),density =True, rwidth =0.8): sample 변수에 저장된 데이터를 이용하여 히스토그램을 그립니다. bins=6은 히스토그램의 구간(bin) 개수를 6개로 설정하고, range=(1,7)은 히스토그램의 범위를 1부터 7까지로 설정합니다. density=True는 히스토그램의 면적을 1로 정규화(normalize)하여 상대도수(relative frequency)로 나타내도록 설정하고, rwidth=0.8은 히스토그램 막대의 너비를 0.8로 설정합니다.\n",
    "# ax.hlines(prob, np.arange(1,7),np.arange(2,8),colors ='red'): prob 변수에 저장된 값을 이용하여, 1부터 6까지의 구간에서 빨간색 수평선을 그립니다. 이 수평선은 각 구간에서의 이론적 확률을 나타냅니다.\n",
    "# ax.set_xticks(np.linspace(1.5,6.5,6)): x축의 눈금(tick)을 1.5부터 6.5까지 균등하게 6개로 설정합니다.\n",
    "# ax.set_xlabel('dice'): x축의 레이블을 \"dice\"로 설정합니다.\n",
    "# ax.set_ylabel('relative frequency'): y축의 레이블을 \"relative frequency\"로 설정합니다.\n",
    "# plt.show(): 그림을 보여줍니다."
   ]
  },
  {
   "attachments": {},
   "cell_type": "markdown",
   "metadata": {},
   "source": [
    "# 모집단 히스토그램"
   ]
  },
  {
   "cell_type": "code",
   "execution_count": 17,
   "metadata": {},
   "outputs": [
    {
     "data": {
      "image/png": "[encoded data removed]",
      "text/plain": [
       "<Figure size 1000x600 with 1 Axes>"
      ]
     },
     "metadata": {},
     "output_type": "display_data"
    }
   ],
   "source": [
    "fig = plt.figure(figsize=(10,6))\n",
    "ax = fig.add_subplot(111)\n",
    "ax.hist(scores, bins=100, range=(0,100),density=True)\n",
    "ax.set_xlim(20,100)\n",
    "ax.set_ylim(0,0.042)\n",
    "ax.set_xlabel('score')\n",
    "ax.set_ylabel('relative frequency')\n",
    "plt.show()"
   ]
  },
  {
   "cell_type": "code",
   "execution_count": 18,
   "metadata": {},
   "outputs": [
    {
     "data": {
      "text/plain": [
       "68"
      ]
     },
     "execution_count": 18,
     "metadata": {},
     "output_type": "execute_result"
    }
   ],
   "source": [
    "np.random.choice(scores)"
   ]
  },
  {
   "cell_type": "code",
   "execution_count": 19,
   "metadata": {},
   "outputs": [
    {
     "data": {
      "image/png": "[encoded data removed]",
      "text/plain": [
       "<Figure size 1000x600 with 1 Axes>"
      ]
     },
     "metadata": {},
     "output_type": "display_data"
    }
   ],
   "source": [
    "sample = np.random.choice(scores,10000)\n",
    "fig = plt.figure(figsize=(10,6))\n",
    "ax = fig.add_subplot(111)\n",
    "#  scores ---> sample 수정\n",
    "ax.hist(sample, bins=100, range=(0,100),density=True)\n",
    "ax.set_xlim(20,100)\n",
    "ax.set_ylim(0,0.042)\n",
    "ax.set_xlabel('score')\n",
    "ax.set_ylabel('relative frequency')\n",
    "plt.show()"
   ]
  },
  {
   "cell_type": "code",
   "execution_count": 20,
   "metadata": {},
   "outputs": [
    {
     "data": {
      "image/png": "[encoded data removed]",
      "text/plain": [
       "<Figure size 1000x600 with 1 Axes>"
      ]
     },
     "metadata": {},
     "output_type": "display_data"
    }
   ],
   "source": [
    "sample_means = [np.random.choice(scores,20).mean()  for _ in range(10000)]\n",
    "fig = plt.figure(figsize=(10,6))\n",
    "ax = fig.add_subplot(111)\n",
    "#  scores ---> sample 수정\n",
    "ax.hist(sample_means, bins=100, range=(0,100),density=True)\n",
    "ax.set_xlim(50,90)\n",
    "ax.set_ylim(0,0.13)\n",
    "ax.set_xlabel('score')\n",
    "ax.set_ylabel('relative frequency')\n",
    "plt.show()"
   ]
  },
  {
   "cell_type": "code",
   "execution_count": null,
   "metadata": {},
   "outputs": [],
   "source": []
  }
 ],
 "metadata": {
  "kernelspec": {
   "display_name": "selenium",
   "language": "python",
   "name": "python3"
  },
  "language_info": {
   "codemirror_mode": {
    "name": "ipython",
    "version": 3
   },
   "file_extension": ".py",
   "mimetype": "text/x-python",
   "name": "python",
   "nbconvert_exporter": "python",
   "pygments_lexer": "ipython3",
   "version": "3.11.1"
  },
  "orig_nbformat": 4
 },
 "nbformat": 4,
 "nbformat_minor": 2
}
