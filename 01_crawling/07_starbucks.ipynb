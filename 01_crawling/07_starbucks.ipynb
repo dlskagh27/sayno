{
 "cells": [
  {
   "cell_type": "raw",
   "id": "3caecc91-1ed2-4e36-ac8a-2b044843f689",
   "metadata": {},
   "source": [
    "#특정지역 선택해서 점포명, 주소 크롤링"
   ]
  },
  {
   "cell_type": "code",
   "execution_count": 1,
   "id": "84a52776-1e20-4145-a13e-66762a3946dc",
   "metadata": {
    "tags": []
   },
   "outputs": [],
   "source": [
    "import requests\n",
    "from bs4 import BeautifulSoup"
   ]
  },
  {
   "cell_type": "raw",
   "id": "14ec473d-05b9-4ecd-a0ca-56c5caf64a09",
   "metadata": {},
   "source": [
    "# https://www.starbucks.co.kr/store/store_map.do"
   ]
  },
  {
   "cell_type": "code",
   "execution_count": 2,
   "id": "fcf2a4e9-bfc1-460c-9246-03d1d8e8205d",
   "metadata": {
    "tags": []
   },
   "outputs": [],
   "source": [
    "url ='https://www.starbucks.co.kr/store/store_map.do'\n",
    "r = requests.get(url).text\n",
    "soup =BeautifulSoup(r,'lxml')\n"
   ]
  },
  {
   "cell_type": "code",
   "execution_count": null,
   "id": "9d992441-58fb-48f2-af3b-91f50e156356",
   "metadata": {},
   "outputs": [],
   "source": []
  }
 ],
 "metadata": {
  "kernelspec": {
   "display_name": "Python 3 (ipykernel)",
   "language": "python",
   "name": "python3"
  },
  "language_info": {
   "codemirror_mode": {
    "name": "ipython",
    "version": 3
   },
   "file_extension": ".py",
   "mimetype": "text/x-python",
   "name": "python",
   "nbconvert_exporter": "python",
   "pygments_lexer": "ipython3",
   "version": "3.11.1"
  }
 },
 "nbformat": 4,
 "nbformat_minor": 5
}
