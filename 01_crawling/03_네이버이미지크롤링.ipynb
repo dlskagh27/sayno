{
 "cells": [
  {
   "cell_type": "code",
   "execution_count": 2,
   "id": "4e5ea770-b608-477c-9537-35bbae24823c",
   "metadata": {
    "tags": []
   },
   "outputs": [],
   "source": [
    "import requests\n",
    "from urllib import request\n",
    "from bs4 import BeautifulSoup"
   ]
  },
  {
   "cell_type": "code",
   "execution_count": 4,
   "id": "6eebc7e4-6b0b-4e5e-bbe7-e9672cd7cd94",
   "metadata": {
    "collapsed": true,
    "jupyter": {
     "outputs_hidden": true
    },
    "tags": []
   },
   "outputs": [
    {
     "name": "stdin",
     "output_type": "stream",
     "text": [
      "검색어 >>> 봄\n"
     ]
    },
    {
     "name": "stdout",
     "output_type": "stream",
     "text": [
      "[<img alt=\"\" height=\"38\" onerror=\"this.parentNode.style.display='none';\" src=\"https://search.pstatic.net/common/?src=http%3A%2F%2Fblogfiles.naver.net%2FMjAyMjAzMjlfMTI2%2FMDAxNjQ4NTU1OTc2NTY0.tAVpeHUd3btXvHhKDaDzZ3Xp_CFMwtQRNkH0TtvFrSwg.Aqo_6OAfXWEpCDPI9irZKhUrahy1ArbZmPHD4KRRtlUg.JPEG.chuliet%2F%25A3%25A5EB%25A3%25A585%25A3%25A5B8%25A3%25A5EC%25A3%25A584%25A3%25A5B1%25A3%25A5EB%25A3%25A58D%25A3%25A595L1130197.jpg&amp;type=f54_54\" width=\"38\"/>, <img alt=\"\" height=\"38\" onerror=\"this.parentNode.style.display='none';\" src=\"https://search.pstatic.net/common/?src=http%3A%2F%2Fcafefiles.naver.net%2FMjAyMzAzMjhfMjQw%2FMDAxNjc5OTc3OTY2NzIz.GkfEAx4k8MPpM9fVJlUO-Qtd9N6f3Y-wVt9aBstGhZwg.ps_e6po8GwcS6FKce-hbimVZJq-0UVPzIsH3-BwMqsog.JPEG%2F%25B4%25D9%25BF%25EE%25B7%25CE%25B5%25E5%25C6%25C4%25C0%25CF%25A3%25DF20230327%25A3%25DF121425.jpg&amp;type=f54_54\" width=\"38\"/>, <img alt=\"\" height=\"38\" onerror=\"this.parentNode.style.display='none';\" src=\"https://search.pstatic.net/common/?src=http%3A%2F%2Fblogfiles.naver.net%2FMjAyMjA0MTBfMTI2%2FMDAxNjQ5NTg5NDM1Nzgw.N1X874VXmo9qx4NIFoDcxM3LIjFl6QtE6_xxwrbhEzcg.cUaFAGaTfL-36T1BMZUVhfZQZae475-NayOo8U0HIVEg.JPEG.o11hs%2Ftemp%25A3%25DF1649589424285.%25A3%25AD418053421.jpeg&amp;type=f54_54\" width=\"38\"/>, <img alt=\"\" height=\"38\" onerror=\"this.parentNode.style.display='none';\" src=\"https://search.pstatic.net/common/?src=http%3A%2F%2Fcafefiles.naver.net%2F20150330_254%2Fmasca321_14276928316199LCcW_JPEG%2F3.jpg&amp;type=f54_54\" width=\"38\"/>, <img alt=\"\" height=\"38\" onerror=\"this.parentNode.style.display='none';\" src=\"https://search.pstatic.net/common/?src=http%3A%2F%2Fcafefiles.naver.net%2FMjAyMzAzMjFfMTc5%2FMDAxNjc5MzU3NDI2NzA0.8mxbiL_Oly-xZig8sGq1BoDpnFpKVE1cQ9iHxf6RuoAg.HuecgtJLfrDhA4xFSjjNC34wSsdxHw89CXA_HCcID9wg.JPEG%2F%25B4%25D9%25BF%25EE%25B7%25CE%25B5%25E5%25C6%25C4%25C0%25CF.jpg&amp;type=f54_54\" width=\"38\"/>, <img alt=\"\" height=\"38\" onerror=\"this.parentNode.style.display='none';\" src=\"https://search.pstatic.net/common/?src=http%3A%2F%2Fblogfiles.naver.net%2FMjAyMDA0MDVfNzIg%2FMDAxNTg2MDQwMjA1NzE3.ahEVLLNeObvKEb7seqMDPIYo5vhDCfHAQ5ucCT4GsAIg.DrZOwonToWHHhsXNj4OjP_pEdyj0JfLqZKKfkR7RWpkg.JPEG.yeongsuh%2F1586040204002.jpg&amp;type=f54_54\" width=\"38\"/>, <img alt=\"\" height=\"38\" onerror=\"this.parentNode.style.display='none';\" src=\"https://search.pstatic.net/common/?src=http%3A%2F%2Fblogfiles.naver.net%2FMjAyMjA0MDNfMTMy%2FMDAxNjQ4OTYxMTczNDU4.opfJ73QcR80bMQA2wXttERSbTC406fhV4UK9BYNV1VMg.AyZRm1pSJYzwjFuLKiJN5J39_cvSp7wJuxkc6Fk8tYog.JPEG.directormin%2FIMG_1434.jpg&amp;type=f54_54\" width=\"38\"/>, <img alt=\"\" height=\"38\" onerror=\"this.parentNode.style.display='none';\" src=\"https://search.pstatic.net/common/?src=http%3A%2F%2Fblogfiles.naver.net%2FMjAyMTAzMDZfMTg4%2FMDAxNjE1MDE3ODQ4Njc3.9EPiIVm_XEUZXubDzZgM60rLQVCU33MR5IDAPpOkUjkg.6r9VBd5wBHPXbkt8SSq4pqVbqzzOLcG8gr0kJ_o29n8g.JPEG.takara8483%2F%25C4%25AB%25BF%25CD%25C3%25F7%25BB%25E7%25C4%25ED%25B6%25F3.jpg&amp;type=f54_54\" width=\"38\"/>, <img alt=\"\" height=\"38\" onerror=\"this.parentNode.style.display='none';\" src=\"https://search.pstatic.net/common/?src=http%3A%2F%2Fblogfiles.naver.net%2FMjAyMzAzMjdfMTAy%2FMDAxNjc5ODkzOTczODEy.LRediLE-SOh9PSx3g0GUzAm5EOx9zde6iXlAnR95M_wg.z7DyNXQ1yMpoQqF4ThT8YSvCyT1D2molfVOzrTs5Hewg.JPEG.top1810%2F20230326_143921_resized.jpg&amp;type=f54_54\" width=\"38\"/>, <img alt=\"\" height=\"38\" onerror=\"this.parentNode.style.display='none';\" src=\"https://search.pstatic.net/common/?src=http%3A%2F%2Fblogfiles.naver.net%2FMjAyMjA0MTFfMTgw%2FMDAxNjQ5NjQ1NjE2NzYy.tlTFgpld7Vul7LIXyKdNHLIbGHwL2K7YYjMwbvQ0Tg8g.xBRDWw0q9iqMfzCSs1tE_Yi5X5jco4AV4Mkpw5VB0qwg.JPEG.dodam1228%2FIMG_4025.JPG&amp;type=f54_54\" width=\"38\"/>, <img alt=\"\" height=\"38\" onerror=\"this.parentNode.style.display='none';\" src=\"https://search.pstatic.net/common/?src=http%3A%2F%2Fblogfiles.naver.net%2FMjAyMTAzMzBfMTE0%2FMDAxNjE3MTA4ODE4MDE0.nPh8fxThlrZLmY2loQ5syphXJN1q8sNWaVsH7STuI0cg._JolufltPWAzm2tDYR6gPaUKMAHX_PJeV7tBijqDrNsg.JPEG.ufo5405%2FDSC06118.JPG&amp;type=f54_54\" width=\"38\"/>, <img alt=\"\" height=\"38\" onerror=\"this.parentNode.style.display='none';\" src=\"https://search.pstatic.net/common/?src=http%3A%2F%2Fblogfiles.naver.net%2FMjAyMjA0MDdfNzcg%2FMDAxNjQ5MzA3OTY1NjY4.9eWjTP_ILb8KS9TuLGWLnKCr4Dv98_GQw5rUulN4IEYg.BiOMxtEoOqP3DOGWLg-RBiNVMt4WKcETOXZoqxZf16og.JPEG.sjs0086%2F20220407_133500.jpg&amp;type=f54_54\" width=\"38\"/>, <img alt=\"\" height=\"38\" onerror=\"this.parentNode.style.display='none';\" src=\"https://search.pstatic.net/common/?src=http%3A%2F%2Fblogfiles.naver.net%2FMjAyMTA2MTRfNTAg%2FMDAxNjIzNTk5NTcyNTg4.OipBrx3I1dHDaGhWr_fDIunbGAO1lKTd8xyxLsU8LFcg.S5KkXZdVbPY_qiz02GaxSp8Knn74M5vPkby1lX21Lt8g.JPEG.vnllamp%2FSO4_7467-404-2.jpg&amp;type=f54_54\" width=\"38\"/>, <img alt=\"\" height=\"38\" onerror=\"this.parentNode.style.display='none';\" src=\"https://search.pstatic.net/common/?src=http%3A%2F%2Fblogfiles.naver.net%2FMjAxOTA2MDZfMjA5%2FMDAxNTU5Nzg2NzkyNjc2.zDxGqZxb4XAGEuptmiKsx3sLRav09fBMPwFWHF1QjEEg.TB2Xn-1zBNFqolwHUY55cQxTcwVuX0Wf-ryWh7adTGQg.JPEG.jangdeok%2F20190605_182824.jpg&amp;type=f54_54\" width=\"38\"/>, <img alt=\"\" height=\"38\" onerror=\"this.parentNode.style.display='none';\" src=\"https://search.pstatic.net/common/?src=http%3A%2F%2Fblogfiles.naver.net%2FMjAyMjA0MTBfNyAg%2FMDAxNjQ5NTE3MDQyODM1.5xL6mV4hGW5celvcXLWtFtqajtvVw-BuJtEXsVZBN2Ag.c1SXJOuyHH-Yoe0Vti9xxnS_AerMXB7I4RZ4nugxwgYg.JPEG.rachel9717%2F20220409%25A3%25DF221204.jpg&amp;type=f54_54\" width=\"38\"/>, <img alt=\"\" height=\"38\" onerror=\"this.parentNode.style.display='none';\" src=\"https://search.pstatic.net/common/?src=http%3A%2F%2Fblogfiles.naver.net%2FMjAyMjA0MDVfMTYx%2FMDAxNjQ5MTY2NjM0MTA4.al6GDBOnLbR1bphad0GxgLY9Aq937dcVz9nsuk7cbbAg.F-msRUn12f4VJTp39yPntbUSi42jlAtEHE4WaCgKL7Ag.JPEG.ibif21%2FB612%25A3%25DF20190407%25A3%25DF183710%25A3%25DF743.jpg&amp;type=f54_54\" width=\"38\"/>, <img alt=\"\" height=\"38\" onerror=\"this.parentNode.style.display='none';\" src=\"https://search.pstatic.net/common/?src=http%3A%2F%2Fblogfiles.naver.net%2F20150402_18%2Fbbilla_1427905238453PBWl6_JPEG%2F%25C7%25CF%25B3%25AA%25BE%25B2_%25C0%25CF%25B7%25AF%25BC%25D2%25BD%25BA_%25BA%25A2%25B2%25C9%25C0%25CF%25B7%25AF_20150331-01.jpg&amp;type=f54_54\" width=\"38\"/>, <img alt=\"\" height=\"38\" onerror=\"this.parentNode.style.display='none';\" src=\"https://search.pstatic.net/common/?src=http%3A%2F%2Fblogfiles.naver.net%2FMjAyMDAzMzBfMjkg%2FMDAxNTg1NTUyOTc4NTU5.WnZfJow6k8uT0LBvZfbagemvbaPZnGWT4AEmrRIAWUMg.Y_pJyBXQuqK2BS-4teJW6YU4wksrGM4gtsEw6erCw98g.JPEG.ski3240%2F1585552982086.jpg&amp;type=f54_54\" width=\"38\"/>, <img alt=\"\" height=\"38\" onerror=\"this.parentNode.style.display='none';\" src=\"https://search.pstatic.net/common/?src=http%3A%2F%2Fblogfiles.naver.net%2F20130328_36%2Fdadolove2_1364470090608Doakm_JPEG%2F_MG_4570_%25BA%25B9%25BB%25E7.jpg&amp;type=f54_54\" width=\"38\"/>, <img alt=\"로딩중\" class=\"bg_loading\" height=\"10\" src=\"https://ssl.pstatic.net/sstatic/search/pc/2016/img/blank.gif\" width=\"100%\"/>]\n"
     ]
    }
   ],
   "source": [
    "key = input('검색어 >>>')\n",
    "url = 'https://search.naver.com/search.naver?where=image&sm=tab_jum&query=%EB%B2%97%EA%BD%83'\n",
    "param = {\n",
    "            'where' : 'image',\n",
    "            'sm':'tab_jum',\n",
    "            'query':key\n",
    "}\n",
    "r = requests.get(url,params=param)\n",
    "soup = BeautifulSoup(r.text,'lxml')\n",
    "result = soup.find_all('img')\n",
    "print(result)"
   ]
  },
  {
   "cell_type": "code",
   "execution_count": 13,
   "id": "871ad552-c159-41d9-a44d-0098a5b91e5d",
   "metadata": {
    "tags": []
   },
   "outputs": [
    {
     "name": "stdout",
     "output_type": "stream",
     "text": [
      "https://search.pstatic.net/common/?src=http%3A%2F%2Fblogfiles.naver.net%2FMjAyMjAzMjlfMTI2%2FMDAxNjQ4NTU1OTc2NTY0.tAVpeHUd3btXvHhKDaDzZ3Xp_CFMwtQRNkH0TtvFrSwg.Aqo_6OAfXWEpCDPI9irZKhUrahy1ArbZmPHD4KRRtlUg.JPEG.chuliet%2F%25A3%25A5EB%25A3%25A585%25A3%25A5B8%25A3%25A5EC%25A3%25A584%25A3%25A5B1%25A3%25A5EB%25A3%25A58D%25A3%25A595L1130197.jpg&type=f54_54\n",
      "https://search.pstatic.net/common/?src=http%3A%2F%2Fcafefiles.naver.net%2FMjAyMzAzMjhfMjQw%2FMDAxNjc5OTc3OTY2NzIz.GkfEAx4k8MPpM9fVJlUO-Qtd9N6f3Y-wVt9aBstGhZwg.ps_e6po8GwcS6FKce-hbimVZJq-0UVPzIsH3-BwMqsog.JPEG%2F%25B4%25D9%25BF%25EE%25B7%25CE%25B5%25E5%25C6%25C4%25C0%25CF%25A3%25DF20230327%25A3%25DF121425.jpg&type=f54_54\n",
      "https://search.pstatic.net/common/?src=http%3A%2F%2Fblogfiles.naver.net%2FMjAyMjA0MTBfMTI2%2FMDAxNjQ5NTg5NDM1Nzgw.N1X874VXmo9qx4NIFoDcxM3LIjFl6QtE6_xxwrbhEzcg.cUaFAGaTfL-36T1BMZUVhfZQZae475-NayOo8U0HIVEg.JPEG.o11hs%2Ftemp%25A3%25DF1649589424285.%25A3%25AD418053421.jpeg&type=f54_54\n",
      "https://search.pstatic.net/common/?src=http%3A%2F%2Fcafefiles.naver.net%2F20150330_254%2Fmasca321_14276928316199LCcW_JPEG%2F3.jpg&type=f54_54\n",
      "https://search.pstatic.net/common/?src=http%3A%2F%2Fcafefiles.naver.net%2FMjAyMzAzMjFfMTc5%2FMDAxNjc5MzU3NDI2NzA0.8mxbiL_Oly-xZig8sGq1BoDpnFpKVE1cQ9iHxf6RuoAg.HuecgtJLfrDhA4xFSjjNC34wSsdxHw89CXA_HCcID9wg.JPEG%2F%25B4%25D9%25BF%25EE%25B7%25CE%25B5%25E5%25C6%25C4%25C0%25CF.jpg&type=f54_54\n",
      "https://search.pstatic.net/common/?src=http%3A%2F%2Fblogfiles.naver.net%2FMjAyMDA0MDVfNzIg%2FMDAxNTg2MDQwMjA1NzE3.ahEVLLNeObvKEb7seqMDPIYo5vhDCfHAQ5ucCT4GsAIg.DrZOwonToWHHhsXNj4OjP_pEdyj0JfLqZKKfkR7RWpkg.JPEG.yeongsuh%2F1586040204002.jpg&type=f54_54\n",
      "https://search.pstatic.net/common/?src=http%3A%2F%2Fblogfiles.naver.net%2FMjAyMjA0MDNfMTMy%2FMDAxNjQ4OTYxMTczNDU4.opfJ73QcR80bMQA2wXttERSbTC406fhV4UK9BYNV1VMg.AyZRm1pSJYzwjFuLKiJN5J39_cvSp7wJuxkc6Fk8tYog.JPEG.directormin%2FIMG_1434.jpg&type=f54_54\n",
      "https://search.pstatic.net/common/?src=http%3A%2F%2Fblogfiles.naver.net%2FMjAyMTAzMDZfMTg4%2FMDAxNjE1MDE3ODQ4Njc3.9EPiIVm_XEUZXubDzZgM60rLQVCU33MR5IDAPpOkUjkg.6r9VBd5wBHPXbkt8SSq4pqVbqzzOLcG8gr0kJ_o29n8g.JPEG.takara8483%2F%25C4%25AB%25BF%25CD%25C3%25F7%25BB%25E7%25C4%25ED%25B6%25F3.jpg&type=f54_54\n",
      "https://search.pstatic.net/common/?src=http%3A%2F%2Fblogfiles.naver.net%2FMjAyMzAzMjdfMTAy%2FMDAxNjc5ODkzOTczODEy.LRediLE-SOh9PSx3g0GUzAm5EOx9zde6iXlAnR95M_wg.z7DyNXQ1yMpoQqF4ThT8YSvCyT1D2molfVOzrTs5Hewg.JPEG.top1810%2F20230326_143921_resized.jpg&type=f54_54\n",
      "https://search.pstatic.net/common/?src=http%3A%2F%2Fblogfiles.naver.net%2FMjAyMjA0MTFfMTgw%2FMDAxNjQ5NjQ1NjE2NzYy.tlTFgpld7Vul7LIXyKdNHLIbGHwL2K7YYjMwbvQ0Tg8g.xBRDWw0q9iqMfzCSs1tE_Yi5X5jco4AV4Mkpw5VB0qwg.JPEG.dodam1228%2FIMG_4025.JPG&type=f54_54\n",
      "https://search.pstatic.net/common/?src=http%3A%2F%2Fblogfiles.naver.net%2FMjAyMTAzMzBfMTE0%2FMDAxNjE3MTA4ODE4MDE0.nPh8fxThlrZLmY2loQ5syphXJN1q8sNWaVsH7STuI0cg._JolufltPWAzm2tDYR6gPaUKMAHX_PJeV7tBijqDrNsg.JPEG.ufo5405%2FDSC06118.JPG&type=f54_54\n",
      "https://search.pstatic.net/common/?src=http%3A%2F%2Fblogfiles.naver.net%2FMjAyMjA0MDdfNzcg%2FMDAxNjQ5MzA3OTY1NjY4.9eWjTP_ILb8KS9TuLGWLnKCr4Dv98_GQw5rUulN4IEYg.BiOMxtEoOqP3DOGWLg-RBiNVMt4WKcETOXZoqxZf16og.JPEG.sjs0086%2F20220407_133500.jpg&type=f54_54\n",
      "https://search.pstatic.net/common/?src=http%3A%2F%2Fblogfiles.naver.net%2FMjAyMTA2MTRfNTAg%2FMDAxNjIzNTk5NTcyNTg4.OipBrx3I1dHDaGhWr_fDIunbGAO1lKTd8xyxLsU8LFcg.S5KkXZdVbPY_qiz02GaxSp8Knn74M5vPkby1lX21Lt8g.JPEG.vnllamp%2FSO4_7467-404-2.jpg&type=f54_54\n",
      "https://search.pstatic.net/common/?src=http%3A%2F%2Fblogfiles.naver.net%2FMjAxOTA2MDZfMjA5%2FMDAxNTU5Nzg2NzkyNjc2.zDxGqZxb4XAGEuptmiKsx3sLRav09fBMPwFWHF1QjEEg.TB2Xn-1zBNFqolwHUY55cQxTcwVuX0Wf-ryWh7adTGQg.JPEG.jangdeok%2F20190605_182824.jpg&type=f54_54\n",
      "https://search.pstatic.net/common/?src=http%3A%2F%2Fblogfiles.naver.net%2FMjAyMjA0MTBfNyAg%2FMDAxNjQ5NTE3MDQyODM1.5xL6mV4hGW5celvcXLWtFtqajtvVw-BuJtEXsVZBN2Ag.c1SXJOuyHH-Yoe0Vti9xxnS_AerMXB7I4RZ4nugxwgYg.JPEG.rachel9717%2F20220409%25A3%25DF221204.jpg&type=f54_54\n",
      "https://search.pstatic.net/common/?src=http%3A%2F%2Fblogfiles.naver.net%2FMjAyMjA0MDVfMTYx%2FMDAxNjQ5MTY2NjM0MTA4.al6GDBOnLbR1bphad0GxgLY9Aq937dcVz9nsuk7cbbAg.F-msRUn12f4VJTp39yPntbUSi42jlAtEHE4WaCgKL7Ag.JPEG.ibif21%2FB612%25A3%25DF20190407%25A3%25DF183710%25A3%25DF743.jpg&type=f54_54\n",
      "https://search.pstatic.net/common/?src=http%3A%2F%2Fblogfiles.naver.net%2F20150402_18%2Fbbilla_1427905238453PBWl6_JPEG%2F%25C7%25CF%25B3%25AA%25BE%25B2_%25C0%25CF%25B7%25AF%25BC%25D2%25BD%25BA_%25BA%25A2%25B2%25C9%25C0%25CF%25B7%25AF_20150331-01.jpg&type=f54_54\n",
      "https://search.pstatic.net/common/?src=http%3A%2F%2Fblogfiles.naver.net%2FMjAyMDAzMzBfMjkg%2FMDAxNTg1NTUyOTc4NTU5.WnZfJow6k8uT0LBvZfbagemvbaPZnGWT4AEmrRIAWUMg.Y_pJyBXQuqK2BS-4teJW6YU4wksrGM4gtsEw6erCw98g.JPEG.ski3240%2F1585552982086.jpg&type=f54_54\n",
      "https://search.pstatic.net/common/?src=http%3A%2F%2Fblogfiles.naver.net%2F20130328_36%2Fdadolove2_1364470090608Doakm_JPEG%2F_MG_4570_%25BA%25B9%25BB%25E7.jpg&type=f54_54\n",
      "https://ssl.pstatic.net/sstatic/search/pc/2016/img/blank.gif\n"
     ]
    }
   ],
   "source": [
    "for item in result:\n",
    "    print(item['src'])"
   ]
  },
  {
   "cell_type": "code",
   "execution_count": 15,
   "id": "11df7e08-f4c4-493a-8042-175b3ad8f114",
   "metadata": {
    "collapsed": true,
    "jupyter": {
     "outputs_hidden": true
    },
    "tags": []
   },
   "outputs": [
    {
     "name": "stdout",
     "output_type": "stream",
     "text": [
      "https://search.pstatic.net/common/?src=http%3A%2F%2Fblogfiles.naver.net%2FMjAyMjAzMjlfMTI2%2FMDAxNjQ4NTU1OTc2NTY0.tAVpeHUd3btXvHhKDaDzZ3Xp_CFMwtQRNkH0TtvFrSwg.Aqo_6OAfXWEpCDPI9irZKhUrahy1ArbZmPHD4KRRtlUg.JPEG.chuliet%2F%25A3%25A5EB%25A3%25A585%25A3%25A5B8%25A3%25A5EC%25A3%25A584%25A3%25A5B1%25A3%25A5EB%25A3%25A58D%25A3%25A595L1130197.jpg\n",
      "https://search.pstatic.net/common/?src=http%3A%2F%2Fcafefiles.naver.net%2FMjAyMzAzMjhfMjQw%2FMDAxNjc5OTc3OTY2NzIz.GkfEAx4k8MPpM9fVJlUO-Qtd9N6f3Y-wVt9aBstGhZwg.ps_e6po8GwcS6FKce-hbimVZJq-0UVPzIsH3-BwMqsog.JPEG%2F%25B4%25D9%25BF%25EE%25B7%25CE%25B5%25E5%25C6%25C4%25C0%25CF%25A3%25DF20230327%25A3%25DF121425.jpg\n",
      "https://search.pstatic.net/common/?src=http%3A%2F%2Fblogfiles.naver.net%2FMjAyMjA0MTBfMTI2%2FMDAxNjQ5NTg5NDM1Nzgw.N1X874VXmo9qx4NIFoDcxM3LIjFl6QtE6_xxwrbhEzcg.cUaFAGaTfL-36T1BMZUVhfZQZae475-NayOo8U0HIVEg.JPEG.o11hs%2Ftemp%25A3%25DF1649589424285.%25A3%25AD418053421.jpeg\n",
      "https://search.pstatic.net/common/?src=http%3A%2F%2Fcafefiles.naver.net%2F20150330_254%2Fmasca321_14276928316199LCcW_JPEG%2F3.jpg\n",
      "https://search.pstatic.net/common/?src=http%3A%2F%2Fcafefiles.naver.net%2FMjAyMzAzMjFfMTc5%2FMDAxNjc5MzU3NDI2NzA0.8mxbiL_Oly-xZig8sGq1BoDpnFpKVE1cQ9iHxf6RuoAg.HuecgtJLfrDhA4xFSjjNC34wSsdxHw89CXA_HCcID9wg.JPEG%2F%25B4%25D9%25BF%25EE%25B7%25CE%25B5%25E5%25C6%25C4%25C0%25CF.jpg\n",
      "https://search.pstatic.net/common/?src=http%3A%2F%2Fblogfiles.naver.net%2FMjAyMDA0MDVfNzIg%2FMDAxNTg2MDQwMjA1NzE3.ahEVLLNeObvKEb7seqMDPIYo5vhDCfHAQ5ucCT4GsAIg.DrZOwonToWHHhsXNj4OjP_pEdyj0JfLqZKKfkR7RWpkg.JPEG.yeongsuh%2F1586040204002.jpg\n",
      "https://search.pstatic.net/common/?src=http%3A%2F%2Fblogfiles.naver.net%2FMjAyMjA0MDNfMTMy%2FMDAxNjQ4OTYxMTczNDU4.opfJ73QcR80bMQA2wXttERSbTC406fhV4UK9BYNV1VMg.AyZRm1pSJYzwjFuLKiJN5J39_cvSp7wJuxkc6Fk8tYog.JPEG.directormin%2FIMG_1434.jpg\n",
      "https://search.pstatic.net/common/?src=http%3A%2F%2Fblogfiles.naver.net%2FMjAyMTAzMDZfMTg4%2FMDAxNjE1MDE3ODQ4Njc3.9EPiIVm_XEUZXubDzZgM60rLQVCU33MR5IDAPpOkUjkg.6r9VBd5wBHPXbkt8SSq4pqVbqzzOLcG8gr0kJ_o29n8g.JPEG.takara8483%2F%25C4%25AB%25BF%25CD%25C3%25F7%25BB%25E7%25C4%25ED%25B6%25F3.jpg\n",
      "https://search.pstatic.net/common/?src=http%3A%2F%2Fblogfiles.naver.net%2FMjAyMzAzMjdfMTAy%2FMDAxNjc5ODkzOTczODEy.LRediLE-SOh9PSx3g0GUzAm5EOx9zde6iXlAnR95M_wg.z7DyNXQ1yMpoQqF4ThT8YSvCyT1D2molfVOzrTs5Hewg.JPEG.top1810%2F20230326_143921_resized.jpg\n",
      "https://search.pstatic.net/common/?src=http%3A%2F%2Fblogfiles.naver.net%2FMjAyMjA0MTFfMTgw%2FMDAxNjQ5NjQ1NjE2NzYy.tlTFgpld7Vul7LIXyKdNHLIbGHwL2K7YYjMwbvQ0Tg8g.xBRDWw0q9iqMfzCSs1tE_Yi5X5jco4AV4Mkpw5VB0qwg.JPEG.dodam1228%2FIMG_4025.JPG\n",
      "https://search.pstatic.net/common/?src=http%3A%2F%2Fblogfiles.naver.net%2FMjAyMTAzMzBfMTE0%2FMDAxNjE3MTA4ODE4MDE0.nPh8fxThlrZLmY2loQ5syphXJN1q8sNWaVsH7STuI0cg._JolufltPWAzm2tDYR6gPaUKMAHX_PJeV7tBijqDrNsg.JPEG.ufo5405%2FDSC06118.JPG\n",
      "https://search.pstatic.net/common/?src=http%3A%2F%2Fblogfiles.naver.net%2FMjAyMjA0MDdfNzcg%2FMDAxNjQ5MzA3OTY1NjY4.9eWjTP_ILb8KS9TuLGWLnKCr4Dv98_GQw5rUulN4IEYg.BiOMxtEoOqP3DOGWLg-RBiNVMt4WKcETOXZoqxZf16og.JPEG.sjs0086%2F20220407_133500.jpg\n",
      "https://search.pstatic.net/common/?src=http%3A%2F%2Fblogfiles.naver.net%2FMjAyMTA2MTRfNTAg%2FMDAxNjIzNTk5NTcyNTg4.OipBrx3I1dHDaGhWr_fDIunbGAO1lKTd8xyxLsU8LFcg.S5KkXZdVbPY_qiz02GaxSp8Knn74M5vPkby1lX21Lt8g.JPEG.vnllamp%2FSO4_7467-404-2.jpg\n",
      "https://search.pstatic.net/common/?src=http%3A%2F%2Fblogfiles.naver.net%2FMjAxOTA2MDZfMjA5%2FMDAxNTU5Nzg2NzkyNjc2.zDxGqZxb4XAGEuptmiKsx3sLRav09fBMPwFWHF1QjEEg.TB2Xn-1zBNFqolwHUY55cQxTcwVuX0Wf-ryWh7adTGQg.JPEG.jangdeok%2F20190605_182824.jpg\n",
      "https://search.pstatic.net/common/?src=http%3A%2F%2Fblogfiles.naver.net%2FMjAyMjA0MTBfNyAg%2FMDAxNjQ5NTE3MDQyODM1.5xL6mV4hGW5celvcXLWtFtqajtvVw-BuJtEXsVZBN2Ag.c1SXJOuyHH-Yoe0Vti9xxnS_AerMXB7I4RZ4nugxwgYg.JPEG.rachel9717%2F20220409%25A3%25DF221204.jpg\n",
      "https://search.pstatic.net/common/?src=http%3A%2F%2Fblogfiles.naver.net%2FMjAyMjA0MDVfMTYx%2FMDAxNjQ5MTY2NjM0MTA4.al6GDBOnLbR1bphad0GxgLY9Aq937dcVz9nsuk7cbbAg.F-msRUn12f4VJTp39yPntbUSi42jlAtEHE4WaCgKL7Ag.JPEG.ibif21%2FB612%25A3%25DF20190407%25A3%25DF183710%25A3%25DF743.jpg\n",
      "https://search.pstatic.net/common/?src=http%3A%2F%2Fblogfiles.naver.net%2F20150402_18%2Fbbilla_1427905238453PBWl6_JPEG%2F%25C7%25CF%25B3%25AA%25BE%25B2_%25C0%25CF%25B7%25AF%25BC%25D2%25BD%25BA_%25BA%25A2%25B2%25C9%25C0%25CF%25B7%25AF_20150331-01.jpg\n",
      "https://search.pstatic.net/common/?src=http%3A%2F%2Fblogfiles.naver.net%2FMjAyMDAzMzBfMjkg%2FMDAxNTg1NTUyOTc4NTU5.WnZfJow6k8uT0LBvZfbagemvbaPZnGWT4AEmrRIAWUMg.Y_pJyBXQuqK2BS-4teJW6YU4wksrGM4gtsEw6erCw98g.JPEG.ski3240%2F1585552982086.jpg\n",
      "https://search.pstatic.net/common/?src=http%3A%2F%2Fblogfiles.naver.net%2F20130328_36%2Fdadolove2_1364470090608Doakm_JPEG%2F_MG_4570_%25BA%25B9%25BB%25E7.jpg\n",
      "url오류\n"
     ]
    }
   ],
   "source": [
    "for item in result:\n",
    "    ###에외처리\n",
    "    try:\n",
    "        # print(item['src'])\n",
    "        index = item['src'].index('&')   ## &\n",
    "        src = item['src'][:index]\n",
    "        print(src)\n",
    "    except:\n",
    "        print('url오류')"
   ]
  },
  {
   "cell_type": "code",
   "execution_count": 18,
   "id": "28e62028-90bd-44d4-9d8e-2c10a9c332f5",
   "metadata": {
    "tags": []
   },
   "outputs": [
    {
     "name": "stdin",
     "output_type": "stream",
     "text": [
      "검색어 >>> 봄\n"
     ]
    },
    {
     "name": "stdout",
     "output_type": "stream",
     "text": [
      "339\n",
      "https://search.pstatic.net/common/?src=http%3A%2F%2Fblogfiles.naver.net%2FMjAyMjAzMjlfMTI2%2FMDAxNjQ4NTU1OTc2NTY0.tAVpeHUd3btXvHhKDaDzZ3Xp_CFMwtQRNkH0TtvFrSwg.Aqo_6OAfXWEpCDPI9irZKhUrahy1ArbZmPHD4KRRtlUg.JPEG.chuliet%2F%25A3%25A5EB%25A3%25A585%25A3%25A5B8%25A3%25A5EC%25A3%25A584%25A3%25A5B1%25A3%25A5EB%25A3%25A58D%25A3%25A595L1130197.jpg\n",
      "309\n",
      "https://search.pstatic.net/common/?src=http%3A%2F%2Fcafefiles.naver.net%2FMjAyMzAzMjhfMjQw%2FMDAxNjc5OTc3OTY2NzIz.GkfEAx4k8MPpM9fVJlUO-Qtd9N6f3Y-wVt9aBstGhZwg.ps_e6po8GwcS6FKce-hbimVZJq-0UVPzIsH3-BwMqsog.JPEG%2F%25B4%25D9%25BF%25EE%25B7%25CE%25B5%25E5%25C6%25C4%25C0%25CF%25A3%25DF20230327%25A3%25DF121425.jpg\n",
      "269\n",
      "https://search.pstatic.net/common/?src=http%3A%2F%2Fblogfiles.naver.net%2FMjAyMjA0MTBfMTI2%2FMDAxNjQ5NTg5NDM1Nzgw.N1X874VXmo9qx4NIFoDcxM3LIjFl6QtE6_xxwrbhEzcg.cUaFAGaTfL-36T1BMZUVhfZQZae475-NayOo8U0HIVEg.JPEG.o11hs%2Ftemp%25A3%25DF1649589424285.%25A3%25AD418053421.jpeg\n",
      "129\n",
      "https://search.pstatic.net/common/?src=http%3A%2F%2Fcafefiles.naver.net%2F20150330_254%2Fmasca321_14276928316199LCcW_JPEG%2F3.jpg\n",
      "275\n",
      "https://search.pstatic.net/common/?src=http%3A%2F%2Fcafefiles.naver.net%2FMjAyMzAzMjFfMTc5%2FMDAxNjc5MzU3NDI2NzA0.8mxbiL_Oly-xZig8sGq1BoDpnFpKVE1cQ9iHxf6RuoAg.HuecgtJLfrDhA4xFSjjNC34wSsdxHw89CXA_HCcID9wg.JPEG%2F%25B4%25D9%25BF%25EE%25B7%25CE%25B5%25E5%25C6%25C4%25C0%25CF.jpg\n",
      "237\n",
      "https://search.pstatic.net/common/?src=http%3A%2F%2Fblogfiles.naver.net%2FMjAyMDA0MDVfNzIg%2FMDAxNTg2MDQwMjA1NzE3.ahEVLLNeObvKEb7seqMDPIYo5vhDCfHAQ5ucCT4GsAIg.DrZOwonToWHHhsXNj4OjP_pEdyj0JfLqZKKfkR7RWpkg.JPEG.yeongsuh%2F1586040204002.jpg\n",
      "235\n",
      "https://search.pstatic.net/common/?src=http%3A%2F%2Fblogfiles.naver.net%2FMjAyMjA0MDNfMTMy%2FMDAxNjQ4OTYxMTczNDU4.opfJ73QcR80bMQA2wXttERSbTC406fhV4UK9BYNV1VMg.AyZRm1pSJYzwjFuLKiJN5J39_cvSp7wJuxkc6Fk8tYog.JPEG.directormin%2FIMG_1434.jpg\n",
      "286\n",
      "https://search.pstatic.net/common/?src=http%3A%2F%2Fblogfiles.naver.net%2FMjAyMTAzMDZfMTg4%2FMDAxNjE1MDE3ODQ4Njc3.9EPiIVm_XEUZXubDzZgM60rLQVCU33MR5IDAPpOkUjkg.6r9VBd5wBHPXbkt8SSq4pqVbqzzOLcG8gr0kJ_o29n8g.JPEG.takara8483%2F%25C4%25AB%25BF%25CD%25C3%25F7%25BB%25E7%25C4%25ED%25B6%25F3.jpg\n",
      "246\n",
      "https://search.pstatic.net/common/?src=http%3A%2F%2Fblogfiles.naver.net%2FMjAyMzAzMjdfMTAy%2FMDAxNjc5ODkzOTczODEy.LRediLE-SOh9PSx3g0GUzAm5EOx9zde6iXlAnR95M_wg.z7DyNXQ1yMpoQqF4ThT8YSvCyT1D2molfVOzrTs5Hewg.JPEG.top1810%2F20230326_143921_resized.jpg\n",
      "233\n",
      "https://search.pstatic.net/common/?src=http%3A%2F%2Fblogfiles.naver.net%2FMjAyMjA0MTFfMTgw%2FMDAxNjQ5NjQ1NjE2NzYy.tlTFgpld7Vul7LIXyKdNHLIbGHwL2K7YYjMwbvQ0Tg8g.xBRDWw0q9iqMfzCSs1tE_Yi5X5jco4AV4Mkpw5VB0qwg.JPEG.dodam1228%2FIMG_4025.JPG\n",
      "231\n",
      "https://search.pstatic.net/common/?src=http%3A%2F%2Fblogfiles.naver.net%2FMjAyMTAzMzBfMTE0%2FMDAxNjE3MTA4ODE4MDE0.nPh8fxThlrZLmY2loQ5syphXJN1q8sNWaVsH7STuI0cg._JolufltPWAzm2tDYR6gPaUKMAHX_PJeV7tBijqDrNsg.JPEG.ufo5405%2FDSC06118.JPG\n",
      "238\n",
      "https://search.pstatic.net/common/?src=http%3A%2F%2Fblogfiles.naver.net%2FMjAyMjA0MDdfNzcg%2FMDAxNjQ5MzA3OTY1NjY4.9eWjTP_ILb8KS9TuLGWLnKCr4Dv98_GQw5rUulN4IEYg.BiOMxtEoOqP3DOGWLg-RBiNVMt4WKcETOXZoqxZf16og.JPEG.sjs0086%2F20220407_133500.jpg\n",
      "237\n",
      "https://search.pstatic.net/common/?src=http%3A%2F%2Fblogfiles.naver.net%2FMjAyMTA2MTRfNTAg%2FMDAxNjIzNTk5NTcyNTg4.OipBrx3I1dHDaGhWr_fDIunbGAO1lKTd8xyxLsU8LFcg.S5KkXZdVbPY_qiz02GaxSp8Knn74M5vPkby1lX21Lt8g.JPEG.vnllamp%2FSO4_7467-404-2.jpg\n",
      "239\n",
      "https://search.pstatic.net/common/?src=http%3A%2F%2Fblogfiles.naver.net%2FMjAxOTA2MDZfMjA5%2FMDAxNTU5Nzg2NzkyNjc2.zDxGqZxb4XAGEuptmiKsx3sLRav09fBMPwFWHF1QjEEg.TB2Xn-1zBNFqolwHUY55cQxTcwVuX0Wf-ryWh7adTGQg.JPEG.jangdeok%2F20190605_182824.jpg\n",
      "250\n",
      "https://search.pstatic.net/common/?src=http%3A%2F%2Fblogfiles.naver.net%2FMjAyMjA0MTBfNyAg%2FMDAxNjQ5NTE3MDQyODM1.5xL6mV4hGW5celvcXLWtFtqajtvVw-BuJtEXsVZBN2Ag.c1SXJOuyHH-Yoe0Vti9xxnS_AerMXB7I4RZ4nugxwgYg.JPEG.rachel9717%2F20220409%25A3%25DF221204.jpg\n",
      "273\n",
      "https://search.pstatic.net/common/?src=http%3A%2F%2Fblogfiles.naver.net%2FMjAyMjA0MDVfMTYx%2FMDAxNjQ5MTY2NjM0MTA4.al6GDBOnLbR1bphad0GxgLY9Aq937dcVz9nsuk7cbbAg.F-msRUn12f4VJTp39yPntbUSi42jlAtEHE4WaCgKL7Ag.JPEG.ibif21%2FB612%25A3%25DF20190407%25A3%25DF183710%25A3%25DF743.jpg\n",
      "249\n",
      "https://search.pstatic.net/common/?src=http%3A%2F%2Fblogfiles.naver.net%2F20150402_18%2Fbbilla_1427905238453PBWl6_JPEG%2F%25C7%25CF%25B3%25AA%25BE%25B2_%25C0%25CF%25B7%25AF%25BC%25D2%25BD%25BA_%25BA%25A2%25B2%25C9%25C0%25CF%25B7%25AF_20150331-01.jpg\n",
      "236\n",
      "https://search.pstatic.net/common/?src=http%3A%2F%2Fblogfiles.naver.net%2FMjAyMDAzMzBfMjkg%2FMDAxNTg1NTUyOTc4NTU5.WnZfJow6k8uT0LBvZfbagemvbaPZnGWT4AEmrRIAWUMg.Y_pJyBXQuqK2BS-4teJW6YU4wksrGM4gtsEw6erCw98g.JPEG.ski3240%2F1585552982086.jpg\n",
      "157\n",
      "https://search.pstatic.net/common/?src=http%3A%2F%2Fblogfiles.naver.net%2F20130328_36%2Fdadolove2_1364470090608Doakm_JPEG%2F_MG_4570_%25BA%25B9%25BB%25E7.jpg\n",
      "url오류\n"
     ]
    }
   ],
   "source": [
    "key = input('검색어 >>>')\n",
    "url = 'https://search.naver.com/search.naver?where=image&sm=tab_jum&query=%EB%B2%97%EA%BD%83'\n",
    "param = {\n",
    "            'where' : 'image',\n",
    "            'sm':'tab_jum',\n",
    "            'query':key\n",
    "}\n",
    "r = requests.get(url,params=param)\n",
    "soup = BeautifulSoup(r.text,'lxml')\n",
    "result = soup.find_all('img')\n",
    "# print(result)\n",
    "for item in result:\n",
    "    ###에외처리\n",
    "    try:\n",
    "        # print(item['src'])\n",
    "        index = item['src'].index('&')    ## & \n",
    "        print(index)                      # 1\n",
    "        src = item['src'][:index]\n",
    "        src_list =src.split('.')           #2\n",
    "        print(src)                         \n",
    "    except:\n",
    "        print('url오류')"
   ]
  },
  {
   "cell_type": "code",
   "execution_count": 20,
   "id": "227a800e-dd96-4f59-be14-dc0584f5bed2",
   "metadata": {
    "tags": []
   },
   "outputs": [
    {
     "name": "stdin",
     "output_type": "stream",
     "text": [
      "검색어 >>> 봄\n"
     ]
    },
    {
     "name": "stdout",
     "output_type": "stream",
     "text": [
      "339\n",
      "jpg\n",
      "309\n",
      "jpg\n",
      "269\n",
      "jpeg\n",
      "129\n",
      "jpg\n",
      "275\n",
      "jpg\n",
      "237\n",
      "jpg\n",
      "235\n",
      "jpg\n",
      "286\n",
      "jpg\n",
      "246\n",
      "jpg\n",
      "233\n",
      "JPG\n",
      "231\n",
      "JPG\n",
      "238\n",
      "jpg\n",
      "237\n",
      "jpg\n",
      "239\n",
      "jpg\n",
      "250\n",
      "jpg\n",
      "273\n",
      "jpg\n",
      "249\n",
      "jpg\n",
      "236\n",
      "jpg\n",
      "157\n",
      "jpg\n",
      "url오류\n"
     ]
    }
   ],
   "source": [
    "key = input('검색어 >>>')\n",
    "url = 'https://search.naver.com/search.naver?where=image&sm=tab_jum&query=%EB%B2%97%EA%BD%83'\n",
    "param = {\n",
    "            'where' : 'image',\n",
    "            'sm':'tab_jum',\n",
    "            'query':key\n",
    "}\n",
    "r = requests.get(url,params=param)\n",
    "soup = BeautifulSoup(r.text,'lxml')\n",
    "result = soup.find_all('img')\n",
    "# print(result)\n",
    "for item in result:\n",
    "    ###에외처리\n",
    "    try:\n",
    "        # print(item['src'])\n",
    "        index = item['src'].index('&')    ## & \n",
    "        print(index)                      # 1\n",
    "        src = item['src'][:index]\n",
    "        src_list =src.split('.')[-1]          #2   #4 [-1]\n",
    "        print(src_list)                         #3\n",
    "    except:\n",
    "        print('url오류')"
   ]
  },
  {
   "cell_type": "code",
   "execution_count": 21,
   "id": "ac16b019-193d-4a5d-80ef-f87c900dc2de",
   "metadata": {
    "tags": []
   },
   "outputs": [
    {
     "name": "stdin",
     "output_type": "stream",
     "text": [
      "검색어 >>> 봄\n"
     ]
    },
    {
     "name": "stdout",
     "output_type": "stream",
     "text": [
      "url오류\n"
     ]
    }
   ],
   "source": [
    "key = input('검색어 >>>')\n",
    "url = 'https://search.naver.com/search.naver?where=image&sm=tab_jum&query=%EB%B2%97%EA%BD%83'\n",
    "param = {\n",
    "            'where' : 'image',\n",
    "            'sm':'tab_jum',\n",
    "            'query':key\n",
    "}\n",
    "r = requests.get(url,params=param)\n",
    "soup = BeautifulSoup(r.text,'lxml')\n",
    "result = soup.find_all('img')\n",
    "# print(result)\n",
    "for i, item in enumerate(result):\n",
    "    ###에외처리\n",
    "    try:\n",
    "        # print(item['src'])\n",
    "        index = item['src'].index('&')    ## & \n",
    "        # print(index)                      # 1\n",
    "        src = item['src'][:index]\n",
    "        src_list =src.split('.')[-1]          #2   #4 [-1]\n",
    "        # print(src_list)                         #3\n",
    "        request.urlretrieve(src,'img/'+str(i)+'.'+src_list)\n",
    "    except:\n",
    "        print('url오류')"
   ]
  },
  {
   "cell_type": "code",
   "execution_count": null,
   "id": "649a7755-1d7a-4777-beb2-307ecba5d767",
   "metadata": {},
   "outputs": [],
   "source": []
  }
 ],
 "metadata": {
  "kernelspec": {
   "display_name": "Python 3 (ipykernel)",
   "language": "python",
   "name": "python3"
  },
  "language_info": {
   "codemirror_mode": {
    "name": "ipython",
    "version": 3
   },
   "file_extension": ".py",
   "mimetype": "text/x-python",
   "name": "python",
   "nbconvert_exporter": "python",
   "pygments_lexer": "ipython3",
   "version": "3.11.1"
  }
 },
 "nbformat": 4,
 "nbformat_minor": 5
}
