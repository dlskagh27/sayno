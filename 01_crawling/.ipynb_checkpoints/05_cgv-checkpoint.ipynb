{
 "cells": [
  {
   "cell_type": "raw",
   "id": "2bcf0749-38c3-4d14-bb53-a5635cab2850",
   "metadata": {},
   "source": [
    "#  http://www.cgv.co.kr/movies/?lt=1&ft=0  무비차트 영화제목 크롤링"
   ]
  },
  {
   "cell_type": "code",
   "execution_count": 42,
   "id": "de3af487-02e0-4c2d-b7c8-2f204029fa83",
   "metadata": {},
   "outputs": [],
   "source": [
    "from urllib.request import urlopen\n",
    "from bs4 import BeautifulSoup"
   ]
  },
  {
   "cell_type": "code",
   "execution_count": 43,
   "id": "6f7a2446-af70-4689-88a7-2c9064e133d2",
   "metadata": {
    "collapsed": true,
    "jupyter": {
     "outputs_hidden": true
    },
    "tags": []
   },
   "outputs": [
    {
     "name": "stdout",
     "output_type": "stream",
     "text": [
      "<a href=\"/movies/detail-view/?midx=86720\">\n",
      "<strong class=\"title\">더 퍼스트 슬램덩크</strong>\n",
      "</a>\n",
      "<a href=\"/movies/detail-view/?midx=86909\">\n",
      "<strong class=\"title\">존 윅 4</strong>\n",
      "</a>\n",
      "<a href=\"/movies/detail-view/?midx=86815\">\n",
      "<strong class=\"title\">스즈메의 문단속</strong>\n",
      "</a>\n",
      "<a href=\"/movies/detail-view/?midx=86876\">\n",
      "<strong class=\"title\">리바운드</strong>\n",
      "</a>\n",
      "<a href=\"/movies/detail-view/?midx=86916\">\n",
      "<strong class=\"title\">에어</strong>\n",
      "</a>\n",
      "<a href=\"/movies/detail-view/?midx=86153\">\n",
      "<strong class=\"title\">던전 앤 드래곤-도적들의 명예</strong>\n",
      "</a>\n",
      "<a href=\"/movies/detail-view/?midx=86903\">\n",
      "<strong class=\"title\">2023 LCK 스프링 결승</strong>\n",
      "</a>\n",
      "<a href=\"/movies/detail-view/?midx=86918\">\n",
      "<strong class=\"title\">카구야 님은 고백받고 싶어 -첫 키스는 끝나지 않아-</strong>\n",
      "</a>\n",
      "<a href=\"/movies/detail-view/?midx=86893\">\n",
      "<strong class=\"title\">오글리스-웰컴 투 냄새 마을</strong>\n",
      "</a>\n",
      "<a href=\"/movies/detail-view/?midx=86829\">\n",
      "<strong class=\"title\">아임 히어로 더 파이널</strong>\n",
      "</a>\n",
      "<a href=\"/movies/detail-view/?midx=86892\">\n",
      "<strong class=\"title\">파벨만스</strong>\n",
      "</a>\n",
      "<a href=\"/movies/detail-view/?midx=86934\">\n",
      "<strong class=\"title\">10-FEET 라이브 이벤트</strong>\n",
      "</a>\n",
      "<a href=\"/movies/detail-view/?midx=86750\">\n",
      "<strong class=\"title\">상견니</strong>\n",
      "</a>\n",
      "<a href=\"/movies/detail-view/?midx=86898\">\n",
      "<strong class=\"title\">찬란한 나의 복수</strong>\n",
      "</a>\n",
      "<a href=\"/movies/detail-view/?midx=86885\">\n",
      "<strong class=\"title\">오토라는 남자</strong>\n",
      "</a>\n",
      "<a href=\"/movies/detail-view/?midx=86823\">\n",
      "<strong class=\"title\">웅남이</strong>\n",
      "</a>\n",
      "<a href=\"/movies/detail-view/?midx=86895\">\n",
      "<strong class=\"title\">흐르다</strong>\n",
      "</a>\n",
      "<a href=\"/movies/detail-view/?midx=86880\">\n",
      "<strong class=\"title\">엘 카미노</strong>\n",
      "</a>\n",
      "<a href=\"/movies/detail-view/?midx=86884\">\n",
      "<strong class=\"title\">소울메이트</strong>\n",
      "</a>\n"
     ]
    }
   ],
   "source": [
    "url ='http://www.cgv.co.kr/movies/?lt=1&ft=0'\n",
    "r = requests.get(url).text\n",
    "soup =BeautifulSoup(r,'lxml')\n",
    "\n",
    "name =[]\n",
    "#### div 아래 a태그 있음\n",
    "data = soup.select('div.box-contents > a')\n",
    "#print(data)\n",
    "\n",
    "for item in data :\n",
    "    print(item)\n",
    "    \n",
    "\n",
    "\n",
    "\n"
   ]
  },
  {
   "cell_type": "code",
   "execution_count": 44,
   "id": "0a05dabd-04c9-4106-8f93-06e44a2e237b",
   "metadata": {
    "collapsed": true,
    "jupyter": {
     "outputs_hidden": true,
     "source_hidden": true
    },
    "tags": []
   },
   "outputs": [
    {
     "name": "stdout",
     "output_type": "stream",
     "text": [
      "<strong class=\"title\">더 퍼스트 슬램덩크</strong>\n",
      "<strong class=\"title\">존 윅 4</strong>\n",
      "<strong class=\"title\">스즈메의 문단속</strong>\n",
      "<strong class=\"title\">리바운드</strong>\n",
      "<strong class=\"title\">에어</strong>\n",
      "<strong class=\"title\">던전 앤 드래곤-도적들의 명예</strong>\n",
      "<strong class=\"title\">2023 LCK 스프링 결승</strong>\n",
      "<strong class=\"title\">카구야 님은 고백받고 싶어 -첫 키스는 끝나지 않아-</strong>\n",
      "<strong class=\"title\">오글리스-웰컴 투 냄새 마을</strong>\n",
      "<strong class=\"title\">아임 히어로 더 파이널</strong>\n",
      "<strong class=\"title\">파벨만스</strong>\n",
      "<strong class=\"title\">10-FEET 라이브 이벤트</strong>\n",
      "<strong class=\"title\">상견니</strong>\n",
      "<strong class=\"title\">찬란한 나의 복수</strong>\n",
      "<strong class=\"title\">오토라는 남자</strong>\n",
      "<strong class=\"title\">웅남이</strong>\n",
      "<strong class=\"title\">흐르다</strong>\n",
      "<strong class=\"title\">엘 카미노</strong>\n",
      "<strong class=\"title\">소울메이트</strong>\n"
     ]
    }
   ],
   "source": [
    "url ='http://www.cgv.co.kr/movies/?lt=1&ft=0'\n",
    "r = requests.get(url).text\n",
    "soup =BeautifulSoup(r,'lxml')\n",
    "\n",
    "name =[]\n",
    "\n",
    "data= soup.select('strong.title')\n",
    "#print(data)\n",
    "for item in data:\n",
    "    print(item)\n",
    "    \n",
    "    \n",
    "    "
   ]
  },
  {
   "cell_type": "code",
   "execution_count": 45,
   "id": "0ce7cbdb-f7fd-4008-bc23-bb6e71c7a570",
   "metadata": {
    "collapsed": true,
    "jupyter": {
     "outputs_hidden": true
    },
    "tags": []
   },
   "outputs": [
    {
     "name": "stdout",
     "output_type": "stream",
     "text": [
      "더 퍼스트 슬램덩크\n",
      "존 윅 4\n",
      "스즈메의 문단속\n",
      "리바운드\n",
      "에어\n",
      "던전 앤 드래곤-도적들의 명예\n",
      "2023 LCK 스프링 결승\n",
      "카구야 님은 고백받고 싶어 -첫 키스는 끝나지 않아-\n",
      "오글리스-웰컴 투 냄새 마을\n",
      "아임 히어로 더 파이널\n",
      "파벨만스\n",
      "10-FEET 라이브 이벤트\n",
      "상견니\n",
      "찬란한 나의 복수\n",
      "오토라는 남자\n",
      "웅남이\n",
      "흐르다\n",
      "엘 카미노\n",
      "소울메이트\n"
     ]
    }
   ],
   "source": [
    "for item in data:\n",
    "    print(item.string)\n",
    "    "
   ]
  },
  {
   "cell_type": "markdown",
   "id": "d9ec85d5-2448-4127-918e-bd9a29a7c953",
   "metadata": {},
   "source": [
    "# 이미지 찾기\n"
   ]
  },
  {
   "cell_type": "code",
   "execution_count": 32,
   "id": "68907890-460d-48f6-918a-198e14f170ad",
   "metadata": {
    "tags": []
   },
   "outputs": [],
   "source": [
    "from urllib.request import urlopen\n",
    "from bs4 import BeautifulSoup"
   ]
  },
  {
   "cell_type": "code",
   "execution_count": 47,
   "id": "c330fb99-1dd0-4cee-9f39-d67ca4786b0c",
   "metadata": {
    "collapsed": true,
    "jupyter": {
     "outputs_hidden": true
    },
    "tags": []
   },
   "outputs": [
    {
     "name": "stdout",
     "output_type": "stream",
     "text": [
      "<a href=\"/movies/detail-view/?midx=86720\">\n",
      "<span class=\"thumb-image\">\n",
      "<img alt=\"더 퍼스트 슬램덩크 포스터\" onerror=\"errorImage(this)\" src=\"https://img.cgv.co.kr/Movie/Thumbnail/Poster/000086/86720/86720_320.jpg\"/>\n",
      "<!-- 영상물 등급 노출 변경 2022.08.24 -->\n",
      "<i class=\"cgvIcon etc age12\">12</i>\n",
      "<!-- <span class=\"ico-grade 12\">12</span> -->\n",
      "</span>\n",
      "</a>\n",
      "<a href=\"/movies/detail-view/?midx=86909\">\n",
      "<span class=\"thumb-image\">\n",
      "<img alt=\"존 윅 4 포스터\" onerror=\"errorImage(this)\" src=\"https://img.cgv.co.kr/Movie/Thumbnail/Poster/000086/86909/86909_320.jpg\"/>\n",
      "<!-- 영상물 등급 노출 변경 2022.08.24 -->\n",
      "<i class=\"cgvIcon etc age18\">18</i>\n",
      "<!-- <span class=\"ico-grade 18\">18</span> -->\n",
      "</span>\n",
      "</a>\n",
      "<a href=\"/movies/detail-view/?midx=86815\">\n",
      "<span class=\"thumb-image\">\n",
      "<img alt=\"스즈메의 문단속 포스터\" onerror=\"errorImage(this)\" src=\"https://img.cgv.co.kr/Movie/Thumbnail/Poster/000086/86815/86815_320.jpg\"/>\n",
      "<!-- 영상물 등급 노출 변경 2022.08.24 -->\n",
      "<i class=\"cgvIcon etc age12\">12</i>\n",
      "<!-- <span class=\"ico-grade 12\">12</span> -->\n",
      "</span>\n",
      "</a>\n",
      "<a href=\"/movies/detail-view/?midx=86876\">\n",
      "<span class=\"thumb-image\">\n",
      "<img alt=\"리바운드 포스터\" onerror=\"errorImage(this)\" src=\"https://img.cgv.co.kr/Movie/Thumbnail/Poster/000086/86876/86876_320.jpg\"/>\n",
      "<!-- 영상물 등급 노출 변경 2022.08.24 -->\n",
      "<i class=\"cgvIcon etc age12\">12</i>\n",
      "<!-- <span class=\"ico-grade 12\">12</span> -->\n",
      "</span>\n",
      "</a>\n",
      "<a href=\"/movies/detail-view/?midx=86916\">\n",
      "<span class=\"thumb-image\">\n",
      "<img alt=\"에어 포스터\" onerror=\"errorImage(this)\" src=\"https://img.cgv.co.kr/Movie/Thumbnail/Poster/000086/86916/86916_320.jpg\"/>\n",
      "<!-- 영상물 등급 노출 변경 2022.08.24 -->\n",
      "<i class=\"cgvIcon etc age15\">15</i>\n",
      "<!-- <span class=\"ico-grade 15\">15</span> -->\n",
      "</span>\n",
      "</a>\n",
      "<a href=\"/movies/detail-view/?midx=86153\">\n",
      "<span class=\"thumb-image\">\n",
      "<img alt=\"던전 앤 드래곤-도적들의 명예 포스터\" onerror=\"errorImage(this)\" src=\"https://img.cgv.co.kr/Movie/Thumbnail/Poster/000086/86153/86153_320.jpg\"/>\n",
      "<!-- 영상물 등급 노출 변경 2022.08.24 -->\n",
      "<i class=\"cgvIcon etc age12\">12</i>\n",
      "<!-- <span class=\"ico-grade 12\">12</span> -->\n",
      "</span>\n",
      "</a>\n",
      "<a href=\"/movies/detail-view/?midx=86903\">\n",
      "<span class=\"thumb-image\">\n",
      "<img alt=\"2023 LCK 스프링 결승 포스터\" onerror=\"errorImage(this)\" src=\"https://img.cgv.co.kr/Movie/Thumbnail/Poster/000086/86903/86903_320.jpg\"/>\n",
      "<!-- 영상물 등급 노출 변경 2022.08.24 -->\n",
      "<i class=\"cgvIcon etc age12\">12</i>\n",
      "<!-- <span class=\"ico-grade 12\">12</span> -->\n",
      "</span>\n",
      "</a>\n",
      "<a href=\"/movies/detail-view/?midx=86918\">\n",
      "<span class=\"thumb-image\">\n",
      "<img alt=\"카구야 님은 고백받고 싶어 -첫 키스는 끝나지 않아- 포스터\" onerror=\"errorImage(this)\" src=\"https://img.cgv.co.kr/Movie/Thumbnail/Poster/000086/86918/86918_320.jpg\"/>\n",
      "<!-- 영상물 등급 노출 변경 2022.08.24 -->\n",
      "<i class=\"cgvIcon etc age12\">12</i>\n",
      "<!--<span class=\"ico-grade 12\">12</span> -->\n",
      "</span>\n",
      "</a>\n",
      "<a href=\"/movies/detail-view/?midx=86893\">\n",
      "<span class=\"thumb-image\">\n",
      "<img alt=\"오글리스-웰컴 투 냄새 마을 포스터\" onerror=\"errorImage(this)\" src=\"https://img.cgv.co.kr/Movie/Thumbnail/Poster/000086/86893/86893_320.jpg\"/>\n",
      "<!-- 영상물 등급 노출 변경 2022.08.24 -->\n",
      "<i class=\"cgvIcon etc ageAll\">All</i>\n",
      "<!--<span class=\"ico-grade All\">All</span> -->\n",
      "</span>\n",
      "</a>\n",
      "<a href=\"/movies/detail-view/?midx=86829\">\n",
      "<span class=\"thumb-image\">\n",
      "<img alt=\"아임 히어로 더 파이널 포스터\" onerror=\"errorImage(this)\" src=\"https://img.cgv.co.kr/Movie/Thumbnail/Poster/000086/86829/86829_320.jpg\"/>\n",
      "<!-- 영상물 등급 노출 변경 2022.08.24 -->\n",
      "<i class=\"cgvIcon etc ageAll\">All</i>\n",
      "<!--<span class=\"ico-grade All\">All</span> -->\n",
      "</span>\n",
      "</a>\n",
      "<a href=\"/movies/detail-view/?midx=86892\">\n",
      "<span class=\"thumb-image\">\n",
      "<img alt=\"파벨만스 포스터\" onerror=\"errorImage(this)\" src=\"https://img.cgv.co.kr/Movie/Thumbnail/Poster/000086/86892/86892_320.jpg\"/>\n",
      "<!-- 영상물 등급 노출 변경 2022.08.24 -->\n",
      "<i class=\"cgvIcon etc age12\">12</i>\n",
      "<!--<span class=\"ico-grade 12\">12</span> -->\n",
      "</span>\n",
      "</a>\n",
      "<a href=\"/movies/detail-view/?midx=86934\">\n",
      "<span class=\"thumb-image\">\n",
      "<img alt=\"10-FEET 라이브 이벤트 포스터\" onerror=\"errorImage(this)\" src=\"https://img.cgv.co.kr/Movie/Thumbnail/Poster/000086/86934/86934_320.jpg\"/>\n",
      "<!-- 영상물 등급 노출 변경 2022.08.24 -->\n",
      "<i class=\"cgvIcon etc age12\">12</i>\n",
      "<!--<span class=\"ico-grade 12\">12</span> -->\n",
      "</span>\n",
      "</a>\n",
      "<a href=\"/movies/detail-view/?midx=86750\">\n",
      "<span class=\"thumb-image\">\n",
      "<img alt=\"상견니 포스터\" onerror=\"errorImage(this)\" src=\"https://img.cgv.co.kr/Movie/Thumbnail/Poster/000086/86750/86750_320.jpg\"/>\n",
      "<!-- 영상물 등급 노출 변경 2022.08.24 -->\n",
      "<i class=\"cgvIcon etc age15\">15</i>\n",
      "<!--<span class=\"ico-grade 15\">15</span> -->\n",
      "</span>\n",
      "</a>\n",
      "<a href=\"/movies/detail-view/?midx=86898\">\n",
      "<span class=\"thumb-image\">\n",
      "<img alt=\"찬란한 나의 복수 포스터\" onerror=\"errorImage(this)\" src=\"https://img.cgv.co.kr/Movie/Thumbnail/Poster/000086/86898/86898_320.jpg\"/>\n",
      "<!-- 영상물 등급 노출 변경 2022.08.24 -->\n",
      "<i class=\"cgvIcon etc age15\">15</i>\n",
      "<!--<span class=\"ico-grade 15\">15</span> -->\n",
      "</span>\n",
      "</a>\n",
      "<a href=\"/movies/detail-view/?midx=86885\">\n",
      "<span class=\"thumb-image\">\n",
      "<img alt=\"오토라는 남자 포스터\" onerror=\"errorImage(this)\" src=\"https://img.cgv.co.kr/Movie/Thumbnail/Poster/000086/86885/86885_320.jpg\"/>\n",
      "<!-- 영상물 등급 노출 변경 2022.08.24 -->\n",
      "<i class=\"cgvIcon etc age12\">12</i>\n",
      "<!--<span class=\"ico-grade 12\">12</span> -->\n",
      "</span>\n",
      "</a>\n",
      "<a href=\"/movies/detail-view/?midx=86823\">\n",
      "<span class=\"thumb-image\">\n",
      "<img alt=\"웅남이 포스터\" onerror=\"errorImage(this)\" src=\"https://img.cgv.co.kr/Movie/Thumbnail/Poster/000086/86823/86823_320.jpg\"/>\n",
      "<!-- 영상물 등급 노출 변경 2022.08.24 -->\n",
      "<i class=\"cgvIcon etc age15\">15</i>\n",
      "<!--<span class=\"ico-grade 15\">15</span> -->\n",
      "</span>\n",
      "</a>\n",
      "<a href=\"/movies/detail-view/?midx=86895\">\n",
      "<span class=\"thumb-image\">\n",
      "<img alt=\"흐르다 포스터\" onerror=\"errorImage(this)\" src=\"https://img.cgv.co.kr/Movie/Thumbnail/Poster/000086/86895/86895_320.jpg\"/>\n",
      "<!-- 영상물 등급 노출 변경 2022.08.24 -->\n",
      "<i class=\"cgvIcon etc age12\">12</i>\n",
      "<!--<span class=\"ico-grade 12\">12</span> -->\n",
      "</span>\n",
      "</a>\n",
      "<a href=\"/movies/detail-view/?midx=86880\">\n",
      "<span class=\"thumb-image\">\n",
      "<img alt=\"엘 카미노 포스터\" onerror=\"errorImage(this)\" src=\"https://img.cgv.co.kr/Movie/Thumbnail/Poster/000086/86880/86880_320.jpg\"/>\n",
      "<!-- 영상물 등급 노출 변경 2022.08.24 -->\n",
      "<i class=\"cgvIcon etc ageAll\">All</i>\n",
      "<!--<span class=\"ico-grade All\">All</span> -->\n",
      "</span>\n",
      "</a>\n",
      "<a href=\"/movies/detail-view/?midx=86884\">\n",
      "<span class=\"thumb-image\">\n",
      "<img alt=\"소울메이트 포스터\" onerror=\"errorImage(this)\" src=\"https://img.cgv.co.kr/Movie/Thumbnail/Poster/000086/86884/86884_320.jpg\"/>\n",
      "<!-- 영상물 등급 노출 변경 2022.08.24 -->\n",
      "<i class=\"cgvIcon etc age12\">12</i>\n",
      "<!--<span class=\"ico-grade 12\">12</span> -->\n",
      "</span>\n",
      "</a>\n"
     ]
    }
   ],
   "source": [
    "url ='http://www.cgv.co.kr/movies/?lt=1&ft=0'\n",
    "r = requests.get(url).text\n",
    "soup =BeautifulSoup(r,'lxml')\n",
    "\n",
    "name =[]\n",
    "#### div 아래 a태그 있음\n",
    "data = soup.select('div.box-image > a')\n",
    "#print(data)\n",
    "\n",
    "#print(result)\n",
    "for item in data :\n",
    "    print(item)\n",
    "    \n",
    "\n"
   ]
  },
  {
   "cell_type": "code",
   "execution_count": 52,
   "id": "3bcf9516-aaf4-4aa4-9983-91dedc9fbfa5",
   "metadata": {
    "tags": []
   },
   "outputs": [
    {
     "name": "stdout",
     "output_type": "stream",
     "text": [
      "https://img.cgv.co.kr/R2014/images/common/logo/logoRed.png\n",
      "https://img.cgv.co.kr/WingBanner/2023/0208/16758461047540.png\n",
      "https://img.cgv.co.kr/R2014/images/common/ico/loginPassword.png\n",
      "https://img.cgv.co.kr/R2014/images/common/ico/loginJoin.png\n",
      "https://img.cgv.co.kr/R2014/images/common/ico/loginMember.png\n",
      "https://img.cgv.co.kr/R2014/images/common/ico/loginCustomer.png\n",
      "https://img.cgv.co.kr/R2014/images/common/logo/logoWhite.png\n",
      "https://img.cgv.co.kr/Movie/Thumbnail/Poster/000086/86720/86720_320.jpg\n",
      "https://img.cgv.co.kr/Movie/Thumbnail/Poster/000086/86909/86909_320.jpg\n",
      "https://img.cgv.co.kr/Movie/Thumbnail/Poster/000086/86815/86815_320.jpg\n",
      "https://img.cgv.co.kr/Movie/Thumbnail/Poster/000086/86876/86876_320.jpg\n",
      "https://img.cgv.co.kr/Movie/Thumbnail/Poster/000086/86916/86916_320.jpg\n",
      "https://img.cgv.co.kr/Movie/Thumbnail/Poster/000086/86153/86153_320.jpg\n",
      "https://img.cgv.co.kr/Movie/Thumbnail/Poster/000086/86903/86903_320.jpg\n",
      "https://img.cgv.co.kr/Movie/Thumbnail/Poster/000086/86918/86918_320.jpg\n",
      "https://img.cgv.co.kr/Movie/Thumbnail/Poster/000086/86893/86893_320.jpg\n",
      "https://img.cgv.co.kr/Movie/Thumbnail/Poster/000086/86829/86829_320.jpg\n",
      "https://img.cgv.co.kr/Movie/Thumbnail/Poster/000086/86892/86892_320.jpg\n",
      "https://img.cgv.co.kr/Movie/Thumbnail/Poster/000086/86934/86934_320.jpg\n",
      "https://img.cgv.co.kr/Movie/Thumbnail/Poster/000086/86750/86750_320.jpg\n",
      "https://img.cgv.co.kr/Movie/Thumbnail/Poster/000086/86898/86898_320.jpg\n",
      "https://img.cgv.co.kr/Movie/Thumbnail/Poster/000086/86885/86885_320.jpg\n",
      "https://img.cgv.co.kr/Movie/Thumbnail/Poster/000086/86823/86823_320.jpg\n",
      "https://img.cgv.co.kr/Movie/Thumbnail/Poster/000086/86895/86895_320.jpg\n",
      "https://img.cgv.co.kr/Movie/Thumbnail/Poster/000086/86880/86880_320.jpg\n",
      "https://img.cgv.co.kr/Movie/Thumbnail/Poster/000086/86884/86884_320.jpg\n",
      "http://img.cgv.co.kr/R2014/images/ad/ico_ad1.png\n",
      "https://img.cgv.co.kr/images/popup/1606_iexp/pop_iexp_headline2.jpg\n",
      "https://img.cgv.co.kr/images/popup/1606_iexp/pop_iexp_downtxt.jpg\n",
      "https://img.cgv.co.kr/images/popup/1606_iexp/btn_down_ios.jpg\n",
      "https://img.cgv.co.kr/images/popup/1606_iexp/btn_down_android.jpg\n",
      "https://img.cgv.co.kr/images/popup/1606_iexp/pop_iexp_headline1.jpg\n",
      "https://img.cgv.co.kr/images/popup/1606_iexp/btn_down_ie.jpg\n",
      "https://img.cgv.co.kr/images/popup/1606_iexp/btn_down_chrome.jpg\n",
      "https://img.cgv.co.kr/images/popup/1606_iexp/pop_iexp_downtxt.jpg\n",
      "https://img.cgv.co.kr/images/popup/1606_iexp/btn_down_ios.jpg\n",
      "https://img.cgv.co.kr/images/popup/1606_iexp/btn_down_android.jpg\n",
      "https://img.cgv.co.kr/R2014/images/common/btn/gotoTop.png\n"
     ]
    }
   ],
   "source": [
    "result = soup.find_all('img')\n",
    "# print(result)\n",
    "for item in result:\n",
    "    print(item['src'])"
   ]
  },
  {
   "cell_type": "code",
   "execution_count": null,
   "id": "7b4f2509-6aa7-4ca0-9c49-70c4a0e968f7",
   "metadata": {
    "tags": []
   },
   "outputs": [],
   "source": []
  }
 ],
 "metadata": {
  "kernelspec": {
   "display_name": "Python 3 (ipykernel)",
   "language": "python",
   "name": "python3"
  },
  "language_info": {
   "codemirror_mode": {
    "name": "ipython",
    "version": 3
   },
   "file_extension": ".py",
   "mimetype": "text/x-python",
   "name": "python",
   "nbconvert_exporter": "python",
   "pygments_lexer": "ipython3",
   "version": "3.11.1"
  }
 },
 "nbformat": 4,
 "nbformat_minor": 5
}
