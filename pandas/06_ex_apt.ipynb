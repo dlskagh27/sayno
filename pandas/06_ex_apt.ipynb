{
 "cells": [
  {
   "cell_type": "code",
   "execution_count": 16,
   "metadata": {},
   "outputs": [],
   "source": [
    "import pandas as pd\n",
    "import numpy as np"
   ]
  },
  {
   "cell_type": "code",
   "execution_count": 17,
   "metadata": {},
   "outputs": [],
   "source": [
    "first_df = pd.read_csv('data/전국_평균_분양가격(2013년_9월부터_2015년_8월까지).csv',encoding='CP949')"
   ]
  },
  {
   "cell_type": "code",
   "execution_count": 18,
   "metadata": {},
   "outputs": [
    {
     "name": "stdout",
     "output_type": "stream",
     "text": [
      "<class 'pandas.core.frame.DataFrame'>\n",
      "RangeIndex: 17 entries, 0 to 16\n",
      "Data columns (total 22 columns):\n",
      " #   Column    Non-Null Count  Dtype \n",
      "---  ------    --------------  ----- \n",
      " 0   지역        17 non-null     object\n",
      " 1   2013년12월  17 non-null     int64 \n",
      " 2   2014년1월   17 non-null     int64 \n",
      " 3   2014년2월   17 non-null     int64 \n",
      " 4   2014년3월   17 non-null     int64 \n",
      " 5   2014년4월   17 non-null     int64 \n",
      " 6   2014년5월   17 non-null     int64 \n",
      " 7   2014년6월   17 non-null     int64 \n",
      " 8   2014년7월   17 non-null     int64 \n",
      " 9   2014년8월   17 non-null     int64 \n",
      " 10  2014년9월   17 non-null     int64 \n",
      " 11  2014년10월  17 non-null     int64 \n",
      " 12  2014년11월  17 non-null     int64 \n",
      " 13  2014년12월  17 non-null     int64 \n",
      " 14  2015년1월   17 non-null     int64 \n",
      " 15  2015년2월   17 non-null     int64 \n",
      " 16  2015년3월   17 non-null     int64 \n",
      " 17  2015년4월   17 non-null     int64 \n",
      " 18  2015년5월   17 non-null     int64 \n",
      " 19  2015년6월   17 non-null     int64 \n",
      " 20  2015년7월   17 non-null     int64 \n",
      " 21  2015년8월   17 non-null     int64 \n",
      "dtypes: int64(21), object(1)\n",
      "memory usage: 3.0+ KB\n"
     ]
    }
   ],
   "source": [
    "first_df.info()"
   ]
  },
  {
   "cell_type": "code",
   "execution_count": 22,
   "metadata": {},
   "outputs": [],
   "source": [
    "last_df = pd.read_csv('data/주택도시보증공사_전국_평균_분양가격(2019년_12월).csv',encoding='cp949')"
   ]
  },
  {
   "cell_type": "code",
   "execution_count": 25,
   "metadata": {},
   "outputs": [
    {
     "name": "stdout",
     "output_type": "stream",
     "text": [
      "<class 'pandas.core.frame.DataFrame'>\n",
      "RangeIndex: 4335 entries, 0 to 4334\n",
      "Data columns (total 5 columns):\n",
      " #   Column   Non-Null Count  Dtype \n",
      "---  ------   --------------  ----- \n",
      " 0   지역명      4335 non-null   object\n",
      " 1   규모구분     4335 non-null   object\n",
      " 2   연도       4335 non-null   int64 \n",
      " 3   월        4335 non-null   int64 \n",
      " 4   분양가격(㎡)  4058 non-null   object\n",
      "dtypes: int64(2), object(3)\n",
      "memory usage: 169.5+ KB\n"
     ]
    }
   ],
   "source": [
    "last_df.info()"
   ]
  },
  {
   "cell_type": "code",
   "execution_count": 24,
   "metadata": {},
   "outputs": [
    {
     "data": {
      "text/html": [
       "<div>\n",
       "<style scoped>\n",
       "    .dataframe tbody tr th:only-of-type {\n",
       "        vertical-align: middle;\n",
       "    }\n",
       "\n",
       "    .dataframe tbody tr th {\n",
       "        vertical-align: top;\n",
       "    }\n",
       "\n",
       "    .dataframe thead th {\n",
       "        text-align: right;\n",
       "    }\n",
       "</style>\n",
       "<table border=\"1\" class=\"dataframe\">\n",
       "  <thead>\n",
       "    <tr style=\"text-align: right;\">\n",
       "      <th></th>\n",
       "      <th>지역명</th>\n",
       "      <th>규모구분</th>\n",
       "      <th>연도</th>\n",
       "      <th>월</th>\n",
       "      <th>분양가격(㎡)</th>\n",
       "    </tr>\n",
       "  </thead>\n",
       "  <tbody>\n",
       "    <tr>\n",
       "      <th>0</th>\n",
       "      <td>서울</td>\n",
       "      <td>전체</td>\n",
       "      <td>2015</td>\n",
       "      <td>10</td>\n",
       "      <td>5841</td>\n",
       "    </tr>\n",
       "    <tr>\n",
       "      <th>1</th>\n",
       "      <td>서울</td>\n",
       "      <td>전용면적 60㎡이하</td>\n",
       "      <td>2015</td>\n",
       "      <td>10</td>\n",
       "      <td>5652</td>\n",
       "    </tr>\n",
       "  </tbody>\n",
       "</table>\n",
       "</div>"
      ],
      "text/plain": [
       "  지역명        규모구분    연도   월 분양가격(㎡)\n",
       "0  서울          전체  2015  10    5841\n",
       "1  서울  전용면적 60㎡이하  2015  10    5652"
      ]
     },
     "execution_count": 24,
     "metadata": {},
     "output_type": "execute_result"
    }
   ],
   "source": [
    "last_df.head(2)"
   ]
  },
  {
   "cell_type": "code",
   "execution_count": 26,
   "metadata": {},
   "outputs": [
    {
     "data": {
      "text/html": [
       "<div>\n",
       "<style scoped>\n",
       "    .dataframe tbody tr th:only-of-type {\n",
       "        vertical-align: middle;\n",
       "    }\n",
       "\n",
       "    .dataframe tbody tr th {\n",
       "        vertical-align: top;\n",
       "    }\n",
       "\n",
       "    .dataframe thead th {\n",
       "        text-align: right;\n",
       "    }\n",
       "</style>\n",
       "<table border=\"1\" class=\"dataframe\">\n",
       "  <thead>\n",
       "    <tr style=\"text-align: right;\">\n",
       "      <th></th>\n",
       "      <th>지역</th>\n",
       "      <th>2013년12월</th>\n",
       "      <th>2014년1월</th>\n",
       "      <th>2014년2월</th>\n",
       "      <th>2014년3월</th>\n",
       "      <th>2014년4월</th>\n",
       "      <th>2014년5월</th>\n",
       "      <th>2014년6월</th>\n",
       "      <th>2014년7월</th>\n",
       "      <th>2014년8월</th>\n",
       "      <th>...</th>\n",
       "      <th>2014년11월</th>\n",
       "      <th>2014년12월</th>\n",
       "      <th>2015년1월</th>\n",
       "      <th>2015년2월</th>\n",
       "      <th>2015년3월</th>\n",
       "      <th>2015년4월</th>\n",
       "      <th>2015년5월</th>\n",
       "      <th>2015년6월</th>\n",
       "      <th>2015년7월</th>\n",
       "      <th>2015년8월</th>\n",
       "    </tr>\n",
       "  </thead>\n",
       "  <tbody>\n",
       "    <tr>\n",
       "      <th>0</th>\n",
       "      <td>서울</td>\n",
       "      <td>18189</td>\n",
       "      <td>17925</td>\n",
       "      <td>17925</td>\n",
       "      <td>18016</td>\n",
       "      <td>18098</td>\n",
       "      <td>19446</td>\n",
       "      <td>18867</td>\n",
       "      <td>18742</td>\n",
       "      <td>19274</td>\n",
       "      <td>...</td>\n",
       "      <td>20242</td>\n",
       "      <td>20269</td>\n",
       "      <td>20670</td>\n",
       "      <td>20670</td>\n",
       "      <td>19415</td>\n",
       "      <td>18842</td>\n",
       "      <td>18367</td>\n",
       "      <td>18374</td>\n",
       "      <td>18152</td>\n",
       "      <td>18443</td>\n",
       "    </tr>\n",
       "    <tr>\n",
       "      <th>1</th>\n",
       "      <td>부산</td>\n",
       "      <td>8111</td>\n",
       "      <td>8111</td>\n",
       "      <td>9078</td>\n",
       "      <td>8965</td>\n",
       "      <td>9402</td>\n",
       "      <td>9501</td>\n",
       "      <td>9453</td>\n",
       "      <td>9457</td>\n",
       "      <td>9411</td>\n",
       "      <td>...</td>\n",
       "      <td>9208</td>\n",
       "      <td>9208</td>\n",
       "      <td>9204</td>\n",
       "      <td>9235</td>\n",
       "      <td>9279</td>\n",
       "      <td>9327</td>\n",
       "      <td>9345</td>\n",
       "      <td>9515</td>\n",
       "      <td>9559</td>\n",
       "      <td>9581</td>\n",
       "    </tr>\n",
       "  </tbody>\n",
       "</table>\n",
       "<p>2 rows × 22 columns</p>\n",
       "</div>"
      ],
      "text/plain": [
       "   지역  2013년12월  2014년1월  2014년2월  2014년3월  2014년4월  2014년5월  2014년6월   \n",
       "0  서울     18189    17925    17925    18016    18098    19446    18867  \\\n",
       "1  부산      8111     8111     9078     8965     9402     9501     9453   \n",
       "\n",
       "   2014년7월  2014년8월  ...  2014년11월  2014년12월  2015년1월  2015년2월  2015년3월   \n",
       "0    18742    19274  ...     20242     20269    20670    20670    19415  \\\n",
       "1     9457     9411  ...      9208      9208     9204     9235     9279   \n",
       "\n",
       "   2015년4월  2015년5월  2015년6월  2015년7월  2015년8월  \n",
       "0    18842    18367    18374    18152    18443  \n",
       "1     9327     9345     9515     9559     9581  \n",
       "\n",
       "[2 rows x 22 columns]"
      ]
     },
     "execution_count": 26,
     "metadata": {},
     "output_type": "execute_result"
    }
   ],
   "source": [
    "first_df.head(2)"
   ]
  },
  {
   "cell_type": "code",
   "execution_count": 28,
   "metadata": {},
   "outputs": [
    {
     "data": {
      "text/html": [
       "<div>\n",
       "<style scoped>\n",
       "    .dataframe tbody tr th:only-of-type {\n",
       "        vertical-align: middle;\n",
       "    }\n",
       "\n",
       "    .dataframe tbody tr th {\n",
       "        vertical-align: top;\n",
       "    }\n",
       "\n",
       "    .dataframe thead th {\n",
       "        text-align: right;\n",
       "    }\n",
       "</style>\n",
       "<table border=\"1\" class=\"dataframe\">\n",
       "  <thead>\n",
       "    <tr style=\"text-align: right;\">\n",
       "      <th></th>\n",
       "      <th>지역명</th>\n",
       "      <th>규모구분</th>\n",
       "      <th>연도</th>\n",
       "      <th>월</th>\n",
       "      <th>분양가격(㎡)</th>\n",
       "    </tr>\n",
       "  </thead>\n",
       "  <tbody>\n",
       "    <tr>\n",
       "      <th>0</th>\n",
       "      <td>False</td>\n",
       "      <td>False</td>\n",
       "      <td>False</td>\n",
       "      <td>False</td>\n",
       "      <td>False</td>\n",
       "    </tr>\n",
       "    <tr>\n",
       "      <th>1</th>\n",
       "      <td>False</td>\n",
       "      <td>False</td>\n",
       "      <td>False</td>\n",
       "      <td>False</td>\n",
       "      <td>False</td>\n",
       "    </tr>\n",
       "    <tr>\n",
       "      <th>2</th>\n",
       "      <td>False</td>\n",
       "      <td>False</td>\n",
       "      <td>False</td>\n",
       "      <td>False</td>\n",
       "      <td>False</td>\n",
       "    </tr>\n",
       "    <tr>\n",
       "      <th>3</th>\n",
       "      <td>False</td>\n",
       "      <td>False</td>\n",
       "      <td>False</td>\n",
       "      <td>False</td>\n",
       "      <td>False</td>\n",
       "    </tr>\n",
       "    <tr>\n",
       "      <th>4</th>\n",
       "      <td>False</td>\n",
       "      <td>False</td>\n",
       "      <td>False</td>\n",
       "      <td>False</td>\n",
       "      <td>False</td>\n",
       "    </tr>\n",
       "    <tr>\n",
       "      <th>...</th>\n",
       "      <td>...</td>\n",
       "      <td>...</td>\n",
       "      <td>...</td>\n",
       "      <td>...</td>\n",
       "      <td>...</td>\n",
       "    </tr>\n",
       "    <tr>\n",
       "      <th>4330</th>\n",
       "      <td>False</td>\n",
       "      <td>False</td>\n",
       "      <td>False</td>\n",
       "      <td>False</td>\n",
       "      <td>False</td>\n",
       "    </tr>\n",
       "    <tr>\n",
       "      <th>4331</th>\n",
       "      <td>False</td>\n",
       "      <td>False</td>\n",
       "      <td>False</td>\n",
       "      <td>False</td>\n",
       "      <td>True</td>\n",
       "    </tr>\n",
       "    <tr>\n",
       "      <th>4332</th>\n",
       "      <td>False</td>\n",
       "      <td>False</td>\n",
       "      <td>False</td>\n",
       "      <td>False</td>\n",
       "      <td>False</td>\n",
       "    </tr>\n",
       "    <tr>\n",
       "      <th>4333</th>\n",
       "      <td>False</td>\n",
       "      <td>False</td>\n",
       "      <td>False</td>\n",
       "      <td>False</td>\n",
       "      <td>True</td>\n",
       "    </tr>\n",
       "    <tr>\n",
       "      <th>4334</th>\n",
       "      <td>False</td>\n",
       "      <td>False</td>\n",
       "      <td>False</td>\n",
       "      <td>False</td>\n",
       "      <td>False</td>\n",
       "    </tr>\n",
       "  </tbody>\n",
       "</table>\n",
       "<p>4335 rows × 5 columns</p>\n",
       "</div>"
      ],
      "text/plain": [
       "        지역명   규모구분     연도      월  분양가격(㎡)\n",
       "0     False  False  False  False    False\n",
       "1     False  False  False  False    False\n",
       "2     False  False  False  False    False\n",
       "3     False  False  False  False    False\n",
       "4     False  False  False  False    False\n",
       "...     ...    ...    ...    ...      ...\n",
       "4330  False  False  False  False    False\n",
       "4331  False  False  False  False     True\n",
       "4332  False  False  False  False    False\n",
       "4333  False  False  False  False     True\n",
       "4334  False  False  False  False    False\n",
       "\n",
       "[4335 rows x 5 columns]"
      ]
     },
     "execution_count": 28,
     "metadata": {},
     "output_type": "execute_result"
    }
   ],
   "source": [
    "last_df.isnull()"
   ]
  },
  {
   "cell_type": "code",
   "execution_count": 29,
   "metadata": {},
   "outputs": [
    {
     "data": {
      "text/plain": [
       "지역명          0\n",
       "규모구분         0\n",
       "연도           0\n",
       "월            0\n",
       "분양가격(㎡)    277\n",
       "dtype: int64"
      ]
     },
     "execution_count": 29,
     "metadata": {},
     "output_type": "execute_result"
    }
   ],
   "source": [
    "last_df.isnull().sum()"
   ]
  },
  {
   "cell_type": "code",
   "execution_count": 30,
   "metadata": {},
   "outputs": [
    {
     "data": {
      "text/plain": [
       "True"
      ]
     },
     "execution_count": 30,
     "metadata": {},
     "output_type": "execute_result"
    }
   ],
   "source": [
    "True ==1"
   ]
  },
  {
   "cell_type": "code",
   "execution_count": 31,
   "metadata": {},
   "outputs": [
    {
     "data": {
      "text/plain": [
       "True"
      ]
     },
     "execution_count": 31,
     "metadata": {},
     "output_type": "execute_result"
    }
   ],
   "source": [
    "False == 0"
   ]
  },
  {
   "cell_type": "code",
   "execution_count": 32,
   "metadata": {},
   "outputs": [
    {
     "data": {
      "text/plain": [
       "2"
      ]
     },
     "execution_count": 32,
     "metadata": {},
     "output_type": "execute_result"
    }
   ],
   "source": [
    "True + True + False"
   ]
  },
  {
   "cell_type": "code",
   "execution_count": 34,
   "metadata": {},
   "outputs": [
    {
     "data": {
      "text/plain": [
       "지역          0\n",
       "2013년12월    0\n",
       "2014년1월     0\n",
       "2014년2월     0\n",
       "2014년3월     0\n",
       "2014년4월     0\n",
       "2014년5월     0\n",
       "2014년6월     0\n",
       "2014년7월     0\n",
       "2014년8월     0\n",
       "2014년9월     0\n",
       "2014년10월    0\n",
       "2014년11월    0\n",
       "2014년12월    0\n",
       "2015년1월     0\n",
       "2015년2월     0\n",
       "2015년3월     0\n",
       "2015년4월     0\n",
       "2015년5월     0\n",
       "2015년6월     0\n",
       "2015년7월     0\n",
       "2015년8월     0\n",
       "dtype: int64"
      ]
     },
     "execution_count": 34,
     "metadata": {},
     "output_type": "execute_result"
    }
   ],
   "source": [
    "first_df.isnull().sum()"
   ]
  },
  {
   "cell_type": "code",
   "execution_count": 35,
   "metadata": {},
   "outputs": [
    {
     "name": "stdout",
     "output_type": "stream",
     "text": [
      "<class 'pandas.core.frame.DataFrame'>\n",
      "RangeIndex: 4335 entries, 0 to 4334\n",
      "Data columns (total 5 columns):\n",
      " #   Column   Non-Null Count  Dtype \n",
      "---  ------   --------------  ----- \n",
      " 0   지역명      4335 non-null   object\n",
      " 1   규모구분     4335 non-null   object\n",
      " 2   연도       4335 non-null   int64 \n",
      " 3   월        4335 non-null   int64 \n",
      " 4   분양가격(㎡)  4058 non-null   object\n",
      "dtypes: int64(2), object(3)\n",
      "memory usage: 169.5+ KB\n"
     ]
    }
   ],
   "source": [
    "last_df.info()"
   ]
  },
  {
   "cell_type": "code",
   "execution_count": 36,
   "metadata": {},
   "outputs": [],
   "source": [
    "import seaborn as sns"
   ]
  },
  {
   "cell_type": "code",
   "execution_count": 39,
   "metadata": {},
   "outputs": [
    {
     "data": {
      "text/plain": [
       "<Axes: xlabel='지역명', ylabel='연도'>"
      ]
     },
     "execution_count": 39,
     "metadata": {},
     "output_type": "execute_result"
    },
    {
     "name": "stderr",
     "output_type": "stream",
     "text": [
      "c:\\namcoding1\\selenium\\Lib\\site-packages\\IPython\\core\\events.py:89: UserWarning: Glyph 49436 (\\N{HANGUL SYLLABLE SEO}) missing from current font.\n",
      "  func(*args, **kwargs)\n",
      "c:\\namcoding1\\selenium\\Lib\\site-packages\\IPython\\core\\events.py:89: UserWarning: Glyph 50872 (\\N{HANGUL SYLLABLE UL}) missing from current font.\n",
      "  func(*args, **kwargs)\n",
      "c:\\namcoding1\\selenium\\Lib\\site-packages\\IPython\\core\\events.py:89: UserWarning: Glyph 51064 (\\N{HANGUL SYLLABLE IN}) missing from current font.\n",
      "  func(*args, **kwargs)\n",
      "c:\\namcoding1\\selenium\\Lib\\site-packages\\IPython\\core\\events.py:89: UserWarning: Glyph 52380 (\\N{HANGUL SYLLABLE CEON}) missing from current font.\n",
      "  func(*args, **kwargs)\n",
      "c:\\namcoding1\\selenium\\Lib\\site-packages\\IPython\\core\\events.py:89: UserWarning: Glyph 44221 (\\N{HANGUL SYLLABLE GYEONG}) missing from current font.\n",
      "  func(*args, **kwargs)\n",
      "c:\\namcoding1\\selenium\\Lib\\site-packages\\IPython\\core\\events.py:89: UserWarning: Glyph 44592 (\\N{HANGUL SYLLABLE GI}) missing from current font.\n",
      "  func(*args, **kwargs)\n",
      "c:\\namcoding1\\selenium\\Lib\\site-packages\\IPython\\core\\events.py:89: UserWarning: Glyph 48512 (\\N{HANGUL SYLLABLE BU}) missing from current font.\n",
      "  func(*args, **kwargs)\n",
      "c:\\namcoding1\\selenium\\Lib\\site-packages\\IPython\\core\\events.py:89: UserWarning: Glyph 49328 (\\N{HANGUL SYLLABLE SAN}) missing from current font.\n",
      "  func(*args, **kwargs)\n",
      "c:\\namcoding1\\selenium\\Lib\\site-packages\\IPython\\core\\events.py:89: UserWarning: Glyph 45824 (\\N{HANGUL SYLLABLE DAE}) missing from current font.\n",
      "  func(*args, **kwargs)\n",
      "c:\\namcoding1\\selenium\\Lib\\site-packages\\IPython\\core\\events.py:89: UserWarning: Glyph 44396 (\\N{HANGUL SYLLABLE GU}) missing from current font.\n",
      "  func(*args, **kwargs)\n",
      "c:\\namcoding1\\selenium\\Lib\\site-packages\\IPython\\core\\events.py:89: UserWarning: Glyph 44305 (\\N{HANGUL SYLLABLE GWANG}) missing from current font.\n",
      "  func(*args, **kwargs)\n",
      "c:\\namcoding1\\selenium\\Lib\\site-packages\\IPython\\core\\events.py:89: UserWarning: Glyph 51452 (\\N{HANGUL SYLLABLE JU}) missing from current font.\n",
      "  func(*args, **kwargs)\n",
      "c:\\namcoding1\\selenium\\Lib\\site-packages\\IPython\\core\\events.py:89: UserWarning: Glyph 51204 (\\N{HANGUL SYLLABLE JEON}) missing from current font.\n",
      "  func(*args, **kwargs)\n",
      "c:\\namcoding1\\selenium\\Lib\\site-packages\\IPython\\core\\events.py:89: UserWarning: Glyph 49464 (\\N{HANGUL SYLLABLE SE}) missing from current font.\n",
      "  func(*args, **kwargs)\n",
      "c:\\namcoding1\\selenium\\Lib\\site-packages\\IPython\\core\\events.py:89: UserWarning: Glyph 51333 (\\N{HANGUL SYLLABLE JONG}) missing from current font.\n",
      "  func(*args, **kwargs)\n",
      "c:\\namcoding1\\selenium\\Lib\\site-packages\\IPython\\core\\events.py:89: UserWarning: Glyph 44053 (\\N{HANGUL SYLLABLE GANG}) missing from current font.\n",
      "  func(*args, **kwargs)\n",
      "c:\\namcoding1\\selenium\\Lib\\site-packages\\IPython\\core\\events.py:89: UserWarning: Glyph 50896 (\\N{HANGUL SYLLABLE WEON}) missing from current font.\n",
      "  func(*args, **kwargs)\n",
      "c:\\namcoding1\\selenium\\Lib\\site-packages\\IPython\\core\\events.py:89: UserWarning: Glyph 52649 (\\N{HANGUL SYLLABLE CUNG}) missing from current font.\n",
      "  func(*args, **kwargs)\n",
      "c:\\namcoding1\\selenium\\Lib\\site-packages\\IPython\\core\\events.py:89: UserWarning: Glyph 48513 (\\N{HANGUL SYLLABLE BUG}) missing from current font.\n",
      "  func(*args, **kwargs)\n",
      "c:\\namcoding1\\selenium\\Lib\\site-packages\\IPython\\core\\events.py:89: UserWarning: Glyph 45224 (\\N{HANGUL SYLLABLE NAM}) missing from current font.\n",
      "  func(*args, **kwargs)\n",
      "c:\\namcoding1\\selenium\\Lib\\site-packages\\IPython\\core\\events.py:89: UserWarning: Glyph 51228 (\\N{HANGUL SYLLABLE JE}) missing from current font.\n",
      "  func(*args, **kwargs)\n",
      "c:\\namcoding1\\selenium\\Lib\\site-packages\\IPython\\core\\events.py:89: UserWarning: Glyph 51648 (\\N{HANGUL SYLLABLE JI}) missing from current font.\n",
      "  func(*args, **kwargs)\n",
      "c:\\namcoding1\\selenium\\Lib\\site-packages\\IPython\\core\\events.py:89: UserWarning: Glyph 50669 (\\N{HANGUL SYLLABLE YEOG}) missing from current font.\n",
      "  func(*args, **kwargs)\n",
      "c:\\namcoding1\\selenium\\Lib\\site-packages\\IPython\\core\\events.py:89: UserWarning: Glyph 47749 (\\N{HANGUL SYLLABLE MYEONG}) missing from current font.\n",
      "  func(*args, **kwargs)\n",
      "c:\\namcoding1\\selenium\\Lib\\site-packages\\IPython\\core\\events.py:89: UserWarning: Glyph 50672 (\\N{HANGUL SYLLABLE YEON}) missing from current font.\n",
      "  func(*args, **kwargs)\n",
      "c:\\namcoding1\\selenium\\Lib\\site-packages\\IPython\\core\\events.py:89: UserWarning: Glyph 46020 (\\N{HANGUL SYLLABLE DO}) missing from current font.\n",
      "  func(*args, **kwargs)\n",
      "c:\\namcoding1\\selenium\\Lib\\site-packages\\IPython\\core\\pylabtools.py:152: UserWarning: Glyph 49436 (\\N{HANGUL SYLLABLE SEO}) missing from current font.\n",
      "  fig.canvas.print_figure(bytes_io, **kw)\n",
      "c:\\namcoding1\\selenium\\Lib\\site-packages\\IPython\\core\\pylabtools.py:152: UserWarning: Glyph 50872 (\\N{HANGUL SYLLABLE UL}) missing from current font.\n",
      "  fig.canvas.print_figure(bytes_io, **kw)\n",
      "c:\\namcoding1\\selenium\\Lib\\site-packages\\IPython\\core\\pylabtools.py:152: UserWarning: Glyph 51064 (\\N{HANGUL SYLLABLE IN}) missing from current font.\n",
      "  fig.canvas.print_figure(bytes_io, **kw)\n",
      "c:\\namcoding1\\selenium\\Lib\\site-packages\\IPython\\core\\pylabtools.py:152: UserWarning: Glyph 52380 (\\N{HANGUL SYLLABLE CEON}) missing from current font.\n",
      "  fig.canvas.print_figure(bytes_io, **kw)\n",
      "c:\\namcoding1\\selenium\\Lib\\site-packages\\IPython\\core\\pylabtools.py:152: UserWarning: Glyph 44221 (\\N{HANGUL SYLLABLE GYEONG}) missing from current font.\n",
      "  fig.canvas.print_figure(bytes_io, **kw)\n",
      "c:\\namcoding1\\selenium\\Lib\\site-packages\\IPython\\core\\pylabtools.py:152: UserWarning: Glyph 44592 (\\N{HANGUL SYLLABLE GI}) missing from current font.\n",
      "  fig.canvas.print_figure(bytes_io, **kw)\n",
      "c:\\namcoding1\\selenium\\Lib\\site-packages\\IPython\\core\\pylabtools.py:152: UserWarning: Glyph 48512 (\\N{HANGUL SYLLABLE BU}) missing from current font.\n",
      "  fig.canvas.print_figure(bytes_io, **kw)\n",
      "c:\\namcoding1\\selenium\\Lib\\site-packages\\IPython\\core\\pylabtools.py:152: UserWarning: Glyph 49328 (\\N{HANGUL SYLLABLE SAN}) missing from current font.\n",
      "  fig.canvas.print_figure(bytes_io, **kw)\n",
      "c:\\namcoding1\\selenium\\Lib\\site-packages\\IPython\\core\\pylabtools.py:152: UserWarning: Glyph 45824 (\\N{HANGUL SYLLABLE DAE}) missing from current font.\n",
      "  fig.canvas.print_figure(bytes_io, **kw)\n",
      "c:\\namcoding1\\selenium\\Lib\\site-packages\\IPython\\core\\pylabtools.py:152: UserWarning: Glyph 44396 (\\N{HANGUL SYLLABLE GU}) missing from current font.\n",
      "  fig.canvas.print_figure(bytes_io, **kw)\n",
      "c:\\namcoding1\\selenium\\Lib\\site-packages\\IPython\\core\\pylabtools.py:152: UserWarning: Glyph 44305 (\\N{HANGUL SYLLABLE GWANG}) missing from current font.\n",
      "  fig.canvas.print_figure(bytes_io, **kw)\n",
      "c:\\namcoding1\\selenium\\Lib\\site-packages\\IPython\\core\\pylabtools.py:152: UserWarning: Glyph 51452 (\\N{HANGUL SYLLABLE JU}) missing from current font.\n",
      "  fig.canvas.print_figure(bytes_io, **kw)\n",
      "c:\\namcoding1\\selenium\\Lib\\site-packages\\IPython\\core\\pylabtools.py:152: UserWarning: Glyph 51204 (\\N{HANGUL SYLLABLE JEON}) missing from current font.\n",
      "  fig.canvas.print_figure(bytes_io, **kw)\n",
      "c:\\namcoding1\\selenium\\Lib\\site-packages\\IPython\\core\\pylabtools.py:152: UserWarning: Glyph 49464 (\\N{HANGUL SYLLABLE SE}) missing from current font.\n",
      "  fig.canvas.print_figure(bytes_io, **kw)\n",
      "c:\\namcoding1\\selenium\\Lib\\site-packages\\IPython\\core\\pylabtools.py:152: UserWarning: Glyph 51333 (\\N{HANGUL SYLLABLE JONG}) missing from current font.\n",
      "  fig.canvas.print_figure(bytes_io, **kw)\n",
      "c:\\namcoding1\\selenium\\Lib\\site-packages\\IPython\\core\\pylabtools.py:152: UserWarning: Glyph 44053 (\\N{HANGUL SYLLABLE GANG}) missing from current font.\n",
      "  fig.canvas.print_figure(bytes_io, **kw)\n",
      "c:\\namcoding1\\selenium\\Lib\\site-packages\\IPython\\core\\pylabtools.py:152: UserWarning: Glyph 50896 (\\N{HANGUL SYLLABLE WEON}) missing from current font.\n",
      "  fig.canvas.print_figure(bytes_io, **kw)\n",
      "c:\\namcoding1\\selenium\\Lib\\site-packages\\IPython\\core\\pylabtools.py:152: UserWarning: Glyph 52649 (\\N{HANGUL SYLLABLE CUNG}) missing from current font.\n",
      "  fig.canvas.print_figure(bytes_io, **kw)\n",
      "c:\\namcoding1\\selenium\\Lib\\site-packages\\IPython\\core\\pylabtools.py:152: UserWarning: Glyph 48513 (\\N{HANGUL SYLLABLE BUG}) missing from current font.\n",
      "  fig.canvas.print_figure(bytes_io, **kw)\n",
      "c:\\namcoding1\\selenium\\Lib\\site-packages\\IPython\\core\\pylabtools.py:152: UserWarning: Glyph 45224 (\\N{HANGUL SYLLABLE NAM}) missing from current font.\n",
      "  fig.canvas.print_figure(bytes_io, **kw)\n",
      "c:\\namcoding1\\selenium\\Lib\\site-packages\\IPython\\core\\pylabtools.py:152: UserWarning: Glyph 51228 (\\N{HANGUL SYLLABLE JE}) missing from current font.\n",
      "  fig.canvas.print_figure(bytes_io, **kw)\n",
      "c:\\namcoding1\\selenium\\Lib\\site-packages\\IPython\\core\\pylabtools.py:152: UserWarning: Glyph 51648 (\\N{HANGUL SYLLABLE JI}) missing from current font.\n",
      "  fig.canvas.print_figure(bytes_io, **kw)\n",
      "c:\\namcoding1\\selenium\\Lib\\site-packages\\IPython\\core\\pylabtools.py:152: UserWarning: Glyph 50669 (\\N{HANGUL SYLLABLE YEOG}) missing from current font.\n",
      "  fig.canvas.print_figure(bytes_io, **kw)\n",
      "c:\\namcoding1\\selenium\\Lib\\site-packages\\IPython\\core\\pylabtools.py:152: UserWarning: Glyph 47749 (\\N{HANGUL SYLLABLE MYEONG}) missing from current font.\n",
      "  fig.canvas.print_figure(bytes_io, **kw)\n",
      "c:\\namcoding1\\selenium\\Lib\\site-packages\\IPython\\core\\pylabtools.py:152: UserWarning: Glyph 50672 (\\N{HANGUL SYLLABLE YEON}) missing from current font.\n",
      "  fig.canvas.print_figure(bytes_io, **kw)\n",
      "c:\\namcoding1\\selenium\\Lib\\site-packages\\IPython\\core\\pylabtools.py:152: UserWarning: Glyph 46020 (\\N{HANGUL SYLLABLE DO}) missing from current font.\n",
      "  fig.canvas.print_figure(bytes_io, **kw)\n"
     ]
    },
    {
     "data": {
      "image/png": "[encoded data removed]",
      "text/plain": [
       "<Figure size 640x480 with 1 Axes>"
      ]
     },
     "metadata": {},
     "output_type": "display_data"
    }
   ],
   "source": [
    "sns.barplot(data=last_df, x='지역명',y='연도')"
   ]
  },
  {
   "cell_type": "code",
   "execution_count": null,
   "metadata": {},
   "outputs": [],
   "source": []
  }
 ],
 "metadata": {
  "kernelspec": {
   "display_name": "selenium",
   "language": "python",
   "name": "python3"
  },
  "language_info": {
   "codemirror_mode": {
    "name": "ipython",
    "version": 3
   },
   "file_extension": ".py",
   "mimetype": "text/x-python",
   "name": "python",
   "nbconvert_exporter": "python",
   "pygments_lexer": "ipython3",
   "version": "3.11.1"
  },
  "orig_nbformat": 4
 },
 "nbformat": 4,
 "nbformat_minor": 2
}
