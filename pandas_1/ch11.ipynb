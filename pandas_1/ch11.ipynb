{
 "cells": [
  {
   "cell_type": "code",
   "execution_count": 1,
   "id": "bd6b0841-69e9-425a-a1cf-d743afbb13a4",
   "metadata": {
    "tags": []
   },
   "outputs": [],
   "source": [
    "import pandas as pd"
   ]
  },
  {
   "cell_type": "code",
   "execution_count": 2,
   "id": "d0cc5858-a20a-468e-acaf-8b2e44beb7ba",
   "metadata": {
    "tags": []
   },
   "outputs": [],
   "source": [
    "df = pd.read_csv('data/gapminder.tsv',sep='\\t')"
   ]
  },
  {
   "cell_type": "code",
   "execution_count": 3,
   "id": "e3be639d-d16d-4078-a8a9-1badcb1b3e25",
   "metadata": {
    "tags": []
   },
   "outputs": [
    {
     "data": {
      "text/plain": [
       "year\n",
       "1952    49.057620\n",
       "1957    51.507401\n",
       "1962    53.609249\n",
       "1967    55.678290\n",
       "1972    57.647386\n",
       "1977    59.570157\n",
       "1982    61.533197\n",
       "1987    63.212613\n",
       "1992    64.160338\n",
       "1997    65.014676\n",
       "2002    65.694923\n",
       "2007    67.007423\n",
       "Name: lifeExp, dtype: float64"
      ]
     },
     "execution_count": 3,
     "metadata": {},
     "output_type": "execute_result"
    }
   ],
   "source": [
    "df.groupby('year').lifeExp.mean()"
   ]
  },
  {
   "cell_type": "code",
   "execution_count": 4,
   "id": "ddddb78f-07e1-4727-855b-e896a23a273a",
   "metadata": {
    "collapsed": true,
    "jupyter": {
     "outputs_hidden": true
    },
    "tags": []
   },
   "outputs": [
    {
     "data": {
      "text/html": [
       "<div>\n",
       "<style scoped>\n",
       "    .dataframe tbody tr th:only-of-type {\n",
       "        vertical-align: middle;\n",
       "    }\n",
       "\n",
       "    .dataframe tbody tr th {\n",
       "        vertical-align: top;\n",
       "    }\n",
       "\n",
       "    .dataframe thead th {\n",
       "        text-align: right;\n",
       "    }\n",
       "</style>\n",
       "<table border=\"1\" class=\"dataframe\">\n",
       "  <thead>\n",
       "    <tr style=\"text-align: right;\">\n",
       "      <th></th>\n",
       "      <th>year</th>\n",
       "      <th>lifeExp</th>\n",
       "    </tr>\n",
       "  </thead>\n",
       "  <tbody>\n",
       "    <tr>\n",
       "      <th>0</th>\n",
       "      <td>1952</td>\n",
       "      <td>49.057620</td>\n",
       "    </tr>\n",
       "    <tr>\n",
       "      <th>1</th>\n",
       "      <td>1957</td>\n",
       "      <td>51.507401</td>\n",
       "    </tr>\n",
       "    <tr>\n",
       "      <th>2</th>\n",
       "      <td>1962</td>\n",
       "      <td>53.609249</td>\n",
       "    </tr>\n",
       "    <tr>\n",
       "      <th>3</th>\n",
       "      <td>1967</td>\n",
       "      <td>55.678290</td>\n",
       "    </tr>\n",
       "    <tr>\n",
       "      <th>4</th>\n",
       "      <td>1972</td>\n",
       "      <td>57.647386</td>\n",
       "    </tr>\n",
       "    <tr>\n",
       "      <th>5</th>\n",
       "      <td>1977</td>\n",
       "      <td>59.570157</td>\n",
       "    </tr>\n",
       "    <tr>\n",
       "      <th>6</th>\n",
       "      <td>1982</td>\n",
       "      <td>61.533197</td>\n",
       "    </tr>\n",
       "    <tr>\n",
       "      <th>7</th>\n",
       "      <td>1987</td>\n",
       "      <td>63.212613</td>\n",
       "    </tr>\n",
       "    <tr>\n",
       "      <th>8</th>\n",
       "      <td>1992</td>\n",
       "      <td>64.160338</td>\n",
       "    </tr>\n",
       "    <tr>\n",
       "      <th>9</th>\n",
       "      <td>1997</td>\n",
       "      <td>65.014676</td>\n",
       "    </tr>\n",
       "    <tr>\n",
       "      <th>10</th>\n",
       "      <td>2002</td>\n",
       "      <td>65.694923</td>\n",
       "    </tr>\n",
       "    <tr>\n",
       "      <th>11</th>\n",
       "      <td>2007</td>\n",
       "      <td>67.007423</td>\n",
       "    </tr>\n",
       "  </tbody>\n",
       "</table>\n",
       "</div>"
      ],
      "text/plain": [
       "    year    lifeExp\n",
       "0   1952  49.057620\n",
       "1   1957  51.507401\n",
       "2   1962  53.609249\n",
       "3   1967  55.678290\n",
       "4   1972  57.647386\n",
       "5   1977  59.570157\n",
       "6   1982  61.533197\n",
       "7   1987  63.212613\n",
       "8   1992  64.160338\n",
       "9   1997  65.014676\n",
       "10  2002  65.694923\n",
       "11  2007  67.007423"
      ]
     },
     "execution_count": 4,
     "metadata": {},
     "output_type": "execute_result"
    }
   ],
   "source": [
    "df.groupby('year')['lifeExp'].mean().to_frame().reset_index()"
   ]
  },
  {
   "cell_type": "code",
   "execution_count": 5,
   "id": "111c447b-1edd-443b-a455-8646d4ed0558",
   "metadata": {
    "tags": []
   },
   "outputs": [],
   "source": [
    "def my_mean(values):\n",
    "    n = len(values)\n",
    "    sum = 0\n",
    "    for value in values:\n",
    "        sum += value\n",
    "    return sum/n"
   ]
  },
  {
   "cell_type": "code",
   "execution_count": 6,
   "id": "9684e276-6e36-49f6-9b66-46cda7f0afb9",
   "metadata": {
    "collapsed": true,
    "jupyter": {
     "outputs_hidden": true
    },
    "tags": []
   },
   "outputs": [
    {
     "data": {
      "text/plain": [
       "year\n",
       "1952    49.057620\n",
       "1957    51.507401\n",
       "1962    53.609249\n",
       "1967    55.678290\n",
       "1972    57.647386\n",
       "1977    59.570157\n",
       "1982    61.533197\n",
       "1987    63.212613\n",
       "1992    64.160338\n",
       "1997    65.014676\n",
       "2002    65.694923\n",
       "2007    67.007423\n",
       "Name: lifeExp, dtype: float64"
      ]
     },
     "execution_count": 6,
     "metadata": {},
     "output_type": "execute_result"
    }
   ],
   "source": [
    "df.groupby('year')['lifeExp'].agg(my_mean)"
   ]
  },
  {
   "cell_type": "code",
   "execution_count": 7,
   "id": "6424ce36-9a82-44f9-86de-6b4a734a6c75",
   "metadata": {
    "collapsed": true,
    "jupyter": {
     "outputs_hidden": true
    },
    "tags": []
   },
   "outputs": [
    {
     "data": {
      "text/html": [
       "<div>\n",
       "<style scoped>\n",
       "    .dataframe tbody tr th:only-of-type {\n",
       "        vertical-align: middle;\n",
       "    }\n",
       "\n",
       "    .dataframe tbody tr th {\n",
       "        vertical-align: top;\n",
       "    }\n",
       "\n",
       "    .dataframe thead th {\n",
       "        text-align: right;\n",
       "    }\n",
       "</style>\n",
       "<table border=\"1\" class=\"dataframe\">\n",
       "  <thead>\n",
       "    <tr style=\"text-align: right;\">\n",
       "      <th></th>\n",
       "      <th>count_nonzero</th>\n",
       "      <th>mean</th>\n",
       "      <th>std</th>\n",
       "    </tr>\n",
       "    <tr>\n",
       "      <th>year</th>\n",
       "      <th></th>\n",
       "      <th></th>\n",
       "      <th></th>\n",
       "    </tr>\n",
       "  </thead>\n",
       "  <tbody>\n",
       "    <tr>\n",
       "      <th>1952</th>\n",
       "      <td>142</td>\n",
       "      <td>49.057620</td>\n",
       "      <td>12.225956</td>\n",
       "    </tr>\n",
       "    <tr>\n",
       "      <th>1957</th>\n",
       "      <td>142</td>\n",
       "      <td>51.507401</td>\n",
       "      <td>12.231286</td>\n",
       "    </tr>\n",
       "    <tr>\n",
       "      <th>1962</th>\n",
       "      <td>142</td>\n",
       "      <td>53.609249</td>\n",
       "      <td>12.097245</td>\n",
       "    </tr>\n",
       "    <tr>\n",
       "      <th>1967</th>\n",
       "      <td>142</td>\n",
       "      <td>55.678290</td>\n",
       "      <td>11.718858</td>\n",
       "    </tr>\n",
       "    <tr>\n",
       "      <th>1972</th>\n",
       "      <td>142</td>\n",
       "      <td>57.647386</td>\n",
       "      <td>11.381953</td>\n",
       "    </tr>\n",
       "    <tr>\n",
       "      <th>1977</th>\n",
       "      <td>142</td>\n",
       "      <td>59.570157</td>\n",
       "      <td>11.227229</td>\n",
       "    </tr>\n",
       "    <tr>\n",
       "      <th>1982</th>\n",
       "      <td>142</td>\n",
       "      <td>61.533197</td>\n",
       "      <td>10.770618</td>\n",
       "    </tr>\n",
       "    <tr>\n",
       "      <th>1987</th>\n",
       "      <td>142</td>\n",
       "      <td>63.212613</td>\n",
       "      <td>10.556285</td>\n",
       "    </tr>\n",
       "    <tr>\n",
       "      <th>1992</th>\n",
       "      <td>142</td>\n",
       "      <td>64.160338</td>\n",
       "      <td>11.227380</td>\n",
       "    </tr>\n",
       "    <tr>\n",
       "      <th>1997</th>\n",
       "      <td>142</td>\n",
       "      <td>65.014676</td>\n",
       "      <td>11.559439</td>\n",
       "    </tr>\n",
       "    <tr>\n",
       "      <th>2002</th>\n",
       "      <td>142</td>\n",
       "      <td>65.694923</td>\n",
       "      <td>12.279823</td>\n",
       "    </tr>\n",
       "    <tr>\n",
       "      <th>2007</th>\n",
       "      <td>142</td>\n",
       "      <td>67.007423</td>\n",
       "      <td>12.073021</td>\n",
       "    </tr>\n",
       "  </tbody>\n",
       "</table>\n",
       "</div>"
      ],
      "text/plain": [
       "      count_nonzero       mean        std\n",
       "year                                     \n",
       "1952            142  49.057620  12.225956\n",
       "1957            142  51.507401  12.231286\n",
       "1962            142  53.609249  12.097245\n",
       "1967            142  55.678290  11.718858\n",
       "1972            142  57.647386  11.381953\n",
       "1977            142  59.570157  11.227229\n",
       "1982            142  61.533197  10.770618\n",
       "1987            142  63.212613  10.556285\n",
       "1992            142  64.160338  11.227380\n",
       "1997            142  65.014676  11.559439\n",
       "2002            142  65.694923  12.279823\n",
       "2007            142  67.007423  12.073021"
      ]
     },
     "execution_count": 7,
     "metadata": {},
     "output_type": "execute_result"
    }
   ],
   "source": [
    "import numpy as np\n",
    "df.groupby('year')['lifeExp'].agg([np.count_nonzero,np.mean,np.std])"
   ]
  },
  {
   "cell_type": "code",
   "execution_count": 8,
   "id": "8ec842c9-48a5-4850-960d-a8aae32c3226",
   "metadata": {
    "tags": []
   },
   "outputs": [
    {
     "data": {
      "text/html": [
       "<div>\n",
       "<style scoped>\n",
       "    .dataframe tbody tr th:only-of-type {\n",
       "        vertical-align: middle;\n",
       "    }\n",
       "\n",
       "    .dataframe tbody tr th {\n",
       "        vertical-align: top;\n",
       "    }\n",
       "\n",
       "    .dataframe thead th {\n",
       "        text-align: right;\n",
       "    }\n",
       "</style>\n",
       "<table border=\"1\" class=\"dataframe\">\n",
       "  <thead>\n",
       "    <tr style=\"text-align: right;\">\n",
       "      <th></th>\n",
       "      <th>lifeExp</th>\n",
       "      <th>pop</th>\n",
       "      <th>gdpPercap</th>\n",
       "    </tr>\n",
       "    <tr>\n",
       "      <th>year</th>\n",
       "      <th></th>\n",
       "      <th></th>\n",
       "      <th></th>\n",
       "    </tr>\n",
       "  </thead>\n",
       "  <tbody>\n",
       "    <tr>\n",
       "      <th>1952</th>\n",
       "      <td>45.1355</td>\n",
       "      <td>3943953.0</td>\n",
       "      <td>1968.528344</td>\n",
       "    </tr>\n",
       "    <tr>\n",
       "      <th>1957</th>\n",
       "      <td>48.3605</td>\n",
       "      <td>4282942.0</td>\n",
       "      <td>2173.220291</td>\n",
       "    </tr>\n",
       "    <tr>\n",
       "      <th>1962</th>\n",
       "      <td>50.8810</td>\n",
       "      <td>4686039.5</td>\n",
       "      <td>2335.439533</td>\n",
       "    </tr>\n",
       "    <tr>\n",
       "      <th>1967</th>\n",
       "      <td>53.8250</td>\n",
       "      <td>5170175.5</td>\n",
       "      <td>2678.334740</td>\n",
       "    </tr>\n",
       "    <tr>\n",
       "      <th>1972</th>\n",
       "      <td>56.5300</td>\n",
       "      <td>5877996.5</td>\n",
       "      <td>3339.129407</td>\n",
       "    </tr>\n",
       "    <tr>\n",
       "      <th>1977</th>\n",
       "      <td>59.6720</td>\n",
       "      <td>6404036.5</td>\n",
       "      <td>3798.609244</td>\n",
       "    </tr>\n",
       "    <tr>\n",
       "      <th>1982</th>\n",
       "      <td>62.4415</td>\n",
       "      <td>7007320.0</td>\n",
       "      <td>4216.228428</td>\n",
       "    </tr>\n",
       "    <tr>\n",
       "      <th>1987</th>\n",
       "      <td>65.8340</td>\n",
       "      <td>7774861.5</td>\n",
       "      <td>4280.300366</td>\n",
       "    </tr>\n",
       "    <tr>\n",
       "      <th>1992</th>\n",
       "      <td>67.7030</td>\n",
       "      <td>8688686.5</td>\n",
       "      <td>4386.085502</td>\n",
       "    </tr>\n",
       "    <tr>\n",
       "      <th>1997</th>\n",
       "      <td>69.3940</td>\n",
       "      <td>9735063.5</td>\n",
       "      <td>4781.825478</td>\n",
       "    </tr>\n",
       "    <tr>\n",
       "      <th>2002</th>\n",
       "      <td>70.8255</td>\n",
       "      <td>10372918.5</td>\n",
       "      <td>5319.804524</td>\n",
       "    </tr>\n",
       "    <tr>\n",
       "      <th>2007</th>\n",
       "      <td>71.9355</td>\n",
       "      <td>10517531.0</td>\n",
       "      <td>6124.371108</td>\n",
       "    </tr>\n",
       "  </tbody>\n",
       "</table>\n",
       "</div>"
      ],
      "text/plain": [
       "      lifeExp         pop    gdpPercap\n",
       "year                                  \n",
       "1952  45.1355   3943953.0  1968.528344\n",
       "1957  48.3605   4282942.0  2173.220291\n",
       "1962  50.8810   4686039.5  2335.439533\n",
       "1967  53.8250   5170175.5  2678.334740\n",
       "1972  56.5300   5877996.5  3339.129407\n",
       "1977  59.6720   6404036.5  3798.609244\n",
       "1982  62.4415   7007320.0  4216.228428\n",
       "1987  65.8340   7774861.5  4280.300366\n",
       "1992  67.7030   8688686.5  4386.085502\n",
       "1997  69.3940   9735063.5  4781.825478\n",
       "2002  70.8255  10372918.5  5319.804524\n",
       "2007  71.9355  10517531.0  6124.371108"
      ]
     },
     "execution_count": 8,
     "metadata": {},
     "output_type": "execute_result"
    }
   ],
   "source": [
    "df.groupby('year').agg({'lifeExp':'mean',\n",
    "                        'lifeExp':'median',\n",
    "                        'pop':'median',\n",
    "                        'gdpPercap':'median'})"
   ]
  },
  {
   "cell_type": "code",
   "execution_count": null,
   "id": "4de41084-b186-4c9c-b81b-3d8d42ecb299",
   "metadata": {},
   "outputs": [],
   "source": []
  }
 ],
 "metadata": {
  "kernelspec": {
   "display_name": "Python 3 (ipykernel)",
   "language": "python",
   "name": "python3"
  },
  "language_info": {
   "codemirror_mode": {
    "name": "ipython",
    "version": 3
   },
   "file_extension": ".py",
   "mimetype": "text/x-python",
   "name": "python",
   "nbconvert_exporter": "python",
   "pygments_lexer": "ipython3",
   "version": "3.11.1"
  }
 },
 "nbformat": 4,
 "nbformat_minor": 5
}
